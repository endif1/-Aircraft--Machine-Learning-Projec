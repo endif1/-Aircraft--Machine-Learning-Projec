{
 "cells": [
  {
   "cell_type": "code",
   "execution_count": 1,
   "metadata": {},
   "outputs": [],
   "source": [
    "import pandas as pd\n",
    "import numpy as np\n",
    "import matplotlib.pyplot as plt\n",
    "import seaborn as sns\n",
    "\n",
    "%matplotlib inline"
   ]
  },
  {
   "cell_type": "markdown",
   "metadata": {},
   "source": [
    "## Problem Statement :\n",
    "Sebagian besar orang tidak tahu cara mencari tahu harga pesawat maka dari itu di notebook ini kita akan mengulik bersama tenatng faktor apa saja yg dapat mempengaruhi harga pesawat"
   ]
  },
  {
   "cell_type": "markdown",
   "metadata": {},
   "source": [
    "## Goals\n",
    "Didalam Notebook ini saya mencari tau faktor apa saja yg mempengaruhi harga pesawat dan memprediksi harga pesawat berdasarkan fitur"
   ]
  },
  {
   "cell_type": "code",
   "execution_count": 2,
   "metadata": {},
   "outputs": [
    {
     "data": {
      "text/html": [
       "<div>\n",
       "<style scoped>\n",
       "    .dataframe tbody tr th:only-of-type {\n",
       "        vertical-align: middle;\n",
       "    }\n",
       "\n",
       "    .dataframe tbody tr th {\n",
       "        vertical-align: top;\n",
       "    }\n",
       "\n",
       "    .dataframe thead th {\n",
       "        text-align: right;\n",
       "    }\n",
       "</style>\n",
       "<table border=\"1\" class=\"dataframe\">\n",
       "  <thead>\n",
       "    <tr style=\"text-align: right;\">\n",
       "      <th></th>\n",
       "      <th>Condition</th>\n",
       "      <th>Price</th>\n",
       "      <th>Currency</th>\n",
       "      <th>Category</th>\n",
       "      <th>Year</th>\n",
       "      <th>Make</th>\n",
       "      <th>Model</th>\n",
       "      <th>Location</th>\n",
       "      <th>S/N</th>\n",
       "      <th>REG</th>\n",
       "      <th>Total Hours</th>\n",
       "      <th>Engine 1 Hours</th>\n",
       "      <th>Engine 2 Hours</th>\n",
       "      <th>Prop 1 Hours</th>\n",
       "      <th>Prop 2 Hours</th>\n",
       "      <th>Total Seats</th>\n",
       "      <th>Flight Rules</th>\n",
       "      <th>National Origin</th>\n",
       "    </tr>\n",
       "  </thead>\n",
       "  <tbody>\n",
       "    <tr>\n",
       "      <th>0</th>\n",
       "      <td>New</td>\n",
       "      <td>$387,000</td>\n",
       "      <td>USD</td>\n",
       "      <td>Piston Helicopters</td>\n",
       "      <td>2020</td>\n",
       "      <td>ROBINSON HELICOPTER</td>\n",
       "      <td>R44 RAVEN I</td>\n",
       "      <td>FL\\n\\t                           USA</td>\n",
       "      <td>Not Listed</td>\n",
       "      <td>TBD</td>\n",
       "      <td>NaN</td>\n",
       "      <td>NaN</td>\n",
       "      <td>NaN</td>\n",
       "      <td>NaN</td>\n",
       "      <td>NaN</td>\n",
       "      <td>NaN</td>\n",
       "      <td>NaN</td>\n",
       "      <td>United States</td>\n",
       "    </tr>\n",
       "    <tr>\n",
       "      <th>1</th>\n",
       "      <td>Used</td>\n",
       "      <td>$294,900</td>\n",
       "      <td>USD</td>\n",
       "      <td>Single Engine Piston</td>\n",
       "      <td>2011</td>\n",
       "      <td>CIRRUS</td>\n",
       "      <td>SR20-G3</td>\n",
       "      <td>Farmingdale (KFRG),\\n\\t                       ...</td>\n",
       "      <td>2081</td>\n",
       "      <td>N187PH</td>\n",
       "      <td>1740</td>\n",
       "      <td>1740 SNEW</td>\n",
       "      <td>NaN</td>\n",
       "      <td>1740 SNEW</td>\n",
       "      <td>NaN</td>\n",
       "      <td>NaN</td>\n",
       "      <td>NaN</td>\n",
       "      <td>United States</td>\n",
       "    </tr>\n",
       "    <tr>\n",
       "      <th>2</th>\n",
       "      <td>Used</td>\n",
       "      <td>$184,900</td>\n",
       "      <td>USD</td>\n",
       "      <td>Single Engine Piston</td>\n",
       "      <td>2011</td>\n",
       "      <td>CUBCRAFTERS</td>\n",
       "      <td>CC11-160 CARBON CUB SS</td>\n",
       "      <td>Louisburg,\\n\\t                           NC\\n\\...</td>\n",
       "      <td>CC11-00168</td>\n",
       "      <td>N160TJ</td>\n",
       "      <td>175</td>\n",
       "      <td>175 SNEW</td>\n",
       "      <td>NaN</td>\n",
       "      <td>160 SNEW</td>\n",
       "      <td>NaN</td>\n",
       "      <td>NaN</td>\n",
       "      <td>NaN</td>\n",
       "      <td>United States</td>\n",
       "    </tr>\n",
       "    <tr>\n",
       "      <th>3</th>\n",
       "      <td>Used</td>\n",
       "      <td>$609,000</td>\n",
       "      <td>USD</td>\n",
       "      <td>Single Engine Piston</td>\n",
       "      <td>2015</td>\n",
       "      <td>CIRRUS</td>\n",
       "      <td>SR22-G5 TURBO</td>\n",
       "      <td>Knoxville,\\n\\t                           TN\\n\\...</td>\n",
       "      <td>1119</td>\n",
       "      <td>N619MT</td>\n",
       "      <td>738</td>\n",
       "      <td>738 HOURS</td>\n",
       "      <td>NaN</td>\n",
       "      <td>738 HOURS</td>\n",
       "      <td>NaN</td>\n",
       "      <td>5.0</td>\n",
       "      <td>IFR</td>\n",
       "      <td>United States</td>\n",
       "    </tr>\n",
       "    <tr>\n",
       "      <th>4</th>\n",
       "      <td>Used</td>\n",
       "      <td>$699,000</td>\n",
       "      <td>USD</td>\n",
       "      <td>Single Engine Piston</td>\n",
       "      <td>2016</td>\n",
       "      <td>BEECHCRAFT</td>\n",
       "      <td>G36 BONANZA</td>\n",
       "      <td>Greensboro,\\n\\t                           NC\\n...</td>\n",
       "      <td>E-4100</td>\n",
       "      <td>N71RW</td>\n",
       "      <td>175</td>\n",
       "      <td>175 SNEW</td>\n",
       "      <td>175 SNEW</td>\n",
       "      <td>NaN</td>\n",
       "      <td>NaN</td>\n",
       "      <td>6.0</td>\n",
       "      <td>NaN</td>\n",
       "      <td>United States</td>\n",
       "    </tr>\n",
       "  </tbody>\n",
       "</table>\n",
       "</div>"
      ],
      "text/plain": [
       "  Condition      Price Currency              Category  Year  \\\n",
       "0       New  $387,000       USD    Piston Helicopters  2020   \n",
       "1      Used  $294,900       USD  Single Engine Piston  2011   \n",
       "2      Used  $184,900       USD  Single Engine Piston  2011   \n",
       "3      Used  $609,000       USD  Single Engine Piston  2015   \n",
       "4      Used  $699,000       USD  Single Engine Piston  2016   \n",
       "\n",
       "                  Make                   Model  \\\n",
       "0  ROBINSON HELICOPTER             R44 RAVEN I   \n",
       "1               CIRRUS                 SR20-G3   \n",
       "2          CUBCRAFTERS  CC11-160 CARBON CUB SS   \n",
       "3               CIRRUS           SR22-G5 TURBO   \n",
       "4           BEECHCRAFT             G36 BONANZA   \n",
       "\n",
       "                                            Location         S/N     REG  \\\n",
       "0               FL\\n\\t                           USA  Not Listed     TBD   \n",
       "1  Farmingdale (KFRG),\\n\\t                       ...        2081  N187PH   \n",
       "2  Louisburg,\\n\\t                           NC\\n\\...  CC11-00168  N160TJ   \n",
       "3  Knoxville,\\n\\t                           TN\\n\\...        1119  N619MT   \n",
       "4  Greensboro,\\n\\t                           NC\\n...      E-4100   N71RW   \n",
       "\n",
       "  Total Hours Engine 1 Hours Engine 2 Hours Prop 1 Hours Prop 2 Hours  \\\n",
       "0         NaN            NaN            NaN          NaN          NaN   \n",
       "1        1740      1740 SNEW            NaN    1740 SNEW          NaN   \n",
       "2         175       175 SNEW            NaN     160 SNEW          NaN   \n",
       "3         738      738 HOURS            NaN    738 HOURS          NaN   \n",
       "4         175       175 SNEW       175 SNEW          NaN          NaN   \n",
       "\n",
       "   Total Seats Flight Rules National Origin  \n",
       "0          NaN          NaN   United States  \n",
       "1          NaN          NaN   United States  \n",
       "2          NaN          NaN   United States  \n",
       "3          5.0          IFR   United States  \n",
       "4          6.0          NaN   United States  "
      ]
     },
     "execution_count": 2,
     "metadata": {},
     "output_type": "execute_result"
    }
   ],
   "source": [
    "df = pd.read_csv('aircraft.csv')\n",
    "df.head()"
   ]
  },
  {
   "cell_type": "markdown",
   "metadata": {},
   "source": [
    "Content scraped:\n",
    "- New/Used\n",
    "- Price\n",
    "- Currency (USD, EUR, GBP)\n",
    "- Category\n",
    "- Year\n",
    "- Make\n",
    "- Model\n",
    "- Location\n",
    "- Serial number\n",
    "- Registration number\n",
    "- Total hours\n",
    "- Engine 1 hours\n",
    "- Engine 2 hours\n",
    "- prop 1 hours\n",
    "- prop 2 hours\n",
    "- Total Seats\n",
    "- Flight Rules\n",
    "- National Origin\n",
    "Keep in mind that the data was scraped from 2 different sources. Some of the data (New/Used, Engine 1 hours, Engine 2 hours, Prop 1 hours, Prop 2 hours, Total\n",
    "Seats, Flight Rules) was only easily accessible on one source, thus is missing for part of the dataset."
   ]
  },
  {
   "cell_type": "code",
   "execution_count": 3,
   "metadata": {},
   "outputs": [
    {
     "name": "stdout",
     "output_type": "stream",
     "text": [
      "<class 'pandas.core.frame.DataFrame'>\n",
      "RangeIndex: 2530 entries, 0 to 2529\n",
      "Data columns (total 18 columns):\n",
      " #   Column           Non-Null Count  Dtype  \n",
      "---  ------           --------------  -----  \n",
      " 0   Condition        1761 non-null   object \n",
      " 1   Price            2530 non-null   object \n",
      " 2   Currency         1978 non-null   object \n",
      " 3   Category         2530 non-null   object \n",
      " 4   Year             2530 non-null   object \n",
      " 5   Make             2530 non-null   object \n",
      " 6   Model            2530 non-null   object \n",
      " 7   Location         2518 non-null   object \n",
      " 8   S/N              2527 non-null   object \n",
      " 9   REG              2528 non-null   object \n",
      " 10  Total Hours      2433 non-null   object \n",
      " 11  Engine 1 Hours   1582 non-null   object \n",
      " 12  Engine 2 Hours   381 non-null    object \n",
      " 13  Prop 1 Hours     1165 non-null   object \n",
      " 14  Prop 2 Hours     263 non-null    object \n",
      " 15  Total Seats      1152 non-null   float64\n",
      " 16  Flight Rules     868 non-null    object \n",
      " 17  National Origin  2522 non-null   object \n",
      "dtypes: float64(1), object(17)\n",
      "memory usage: 355.9+ KB\n"
     ]
    }
   ],
   "source": [
    "df.info()"
   ]
  },
  {
   "cell_type": "markdown",
   "metadata": {},
   "source": [
    "## Deskirpsi Data\n",
    "- SNEW = Total Time Since New is usually an airframe time reference for the total number of flight hours on a used aircraft.\n",
    "- TSOH = Means Time Since Overhaul, which is the number of flight hours since the overhaul was performed on that particular part.\n",
    "- TBO or TBOH = This means Total Basic Operating time or Time Between Overhaul. \n",
    "- SMOH or TSMOH = This is Since Major Over Haul. \n",
    "- STOH = Since Top Over Haul. A top overhaul is a term used by the general aviation industry when all the cylinders on the engine are overhauled or replaced with new possibly due to corrosion. \n",
    "- TTSN, TSN, or TT = This refers to Total Time Since New or Time Since New or Total Time, and this is usually an airframe time reference for the total number of flight hours on a used aircraft.\n",
    "- SFRM or SFRMN = This means time Since Factory Re-Manufactured, and it is the time flown since the engine was re-manufactured by Lycoming, Continental, or some other approved engine shop. "
   ]
  },
  {
   "cell_type": "code",
   "execution_count": 4,
   "metadata": {},
   "outputs": [
    {
     "data": {
      "text/plain": [
       "Condition           769\n",
       "Price                 0\n",
       "Currency            552\n",
       "Category              0\n",
       "Year                  0\n",
       "Make                  0\n",
       "Model                 0\n",
       "Location             12\n",
       "S/N                   3\n",
       "REG                   2\n",
       "Total Hours          97\n",
       "Engine 1 Hours      948\n",
       "Engine 2 Hours     2149\n",
       "Prop 1 Hours       1365\n",
       "Prop 2 Hours       2267\n",
       "Total Seats        1378\n",
       "Flight Rules       1662\n",
       "National Origin       8\n",
       "dtype: int64"
      ]
     },
     "execution_count": 4,
     "metadata": {},
     "output_type": "execute_result"
    }
   ],
   "source": [
    "df.isna().sum()"
   ]
  },
  {
   "cell_type": "code",
   "execution_count": 5,
   "metadata": {},
   "outputs": [],
   "source": [
    "pd.set_option('display.max_rows', 20)"
   ]
  },
  {
   "cell_type": "code",
   "execution_count": 6,
   "metadata": {},
   "outputs": [
    {
     "name": "stdout",
     "output_type": "stream",
     "text": [
      "False    2527\n",
      "True        3\n",
      "dtype: int64\n"
     ]
    }
   ],
   "source": [
    "df[df.duplicated()] \n",
    "print(df.duplicated().value_counts())"
   ]
  },
  {
   "cell_type": "code",
   "execution_count": 7,
   "metadata": {},
   "outputs": [],
   "source": [
    "df_desc = []\n",
    "for i in df.columns:\n",
    "    df_desc.append([\n",
    "        i,\n",
    "        df[i].dtypes,\n",
    "        df[i].isna().sum(),\n",
    "        round(((df[i].isna().sum())/ (len(df))*100),2),\n",
    "        df[i].nunique(),\n",
    "        df[i].unique()\n",
    "    ])"
   ]
  },
  {
   "cell_type": "code",
   "execution_count": 8,
   "metadata": {},
   "outputs": [
    {
     "data": {
      "text/html": [
       "<div>\n",
       "<style scoped>\n",
       "    .dataframe tbody tr th:only-of-type {\n",
       "        vertical-align: middle;\n",
       "    }\n",
       "\n",
       "    .dataframe tbody tr th {\n",
       "        vertical-align: top;\n",
       "    }\n",
       "\n",
       "    .dataframe thead th {\n",
       "        text-align: right;\n",
       "    }\n",
       "</style>\n",
       "<table border=\"1\" class=\"dataframe\">\n",
       "  <thead>\n",
       "    <tr style=\"text-align: right;\">\n",
       "      <th></th>\n",
       "      <th>Data Features</th>\n",
       "      <th>Data Types</th>\n",
       "      <th>NaN</th>\n",
       "      <th>NaN Percentage</th>\n",
       "      <th>Unique</th>\n",
       "      <th>Unique Sample</th>\n",
       "    </tr>\n",
       "  </thead>\n",
       "  <tbody>\n",
       "    <tr>\n",
       "      <th>0</th>\n",
       "      <td>Condition</td>\n",
       "      <td>object</td>\n",
       "      <td>769</td>\n",
       "      <td>30.40</td>\n",
       "      <td>3</td>\n",
       "      <td>[New, Used, Project, nan]</td>\n",
       "    </tr>\n",
       "    <tr>\n",
       "      <th>1</th>\n",
       "      <td>Price</td>\n",
       "      <td>object</td>\n",
       "      <td>0</td>\n",
       "      <td>0.00</td>\n",
       "      <td>1160</td>\n",
       "      <td>[$387,000 , $294,900 , $184,900 , $609,000 , $...</td>\n",
       "    </tr>\n",
       "    <tr>\n",
       "      <th>2</th>\n",
       "      <td>Currency</td>\n",
       "      <td>object</td>\n",
       "      <td>552</td>\n",
       "      <td>21.82</td>\n",
       "      <td>5</td>\n",
       "      <td>[USD, EUR, CHF, CAD, GBP, nan]</td>\n",
       "    </tr>\n",
       "    <tr>\n",
       "      <th>3</th>\n",
       "      <td>Category</td>\n",
       "      <td>object</td>\n",
       "      <td>0</td>\n",
       "      <td>0.00</td>\n",
       "      <td>13</td>\n",
       "      <td>[Piston Helicopters, Single Engine Piston, Pri...</td>\n",
       "    </tr>\n",
       "    <tr>\n",
       "      <th>4</th>\n",
       "      <td>Year</td>\n",
       "      <td>object</td>\n",
       "      <td>0</td>\n",
       "      <td>0.00</td>\n",
       "      <td>94</td>\n",
       "      <td>[2020, 2011, 2015, 2016, 2017, 2018, 1980, 198...</td>\n",
       "    </tr>\n",
       "    <tr>\n",
       "      <th>5</th>\n",
       "      <td>Make</td>\n",
       "      <td>object</td>\n",
       "      <td>0</td>\n",
       "      <td>0.00</td>\n",
       "      <td>187</td>\n",
       "      <td>[ROBINSON HELICOPTER, CIRRUS, CUBCRAFTERS, BEE...</td>\n",
       "    </tr>\n",
       "    <tr>\n",
       "      <th>6</th>\n",
       "      <td>Model</td>\n",
       "      <td>object</td>\n",
       "      <td>0</td>\n",
       "      <td>0.00</td>\n",
       "      <td>1020</td>\n",
       "      <td>[R44 RAVEN I, SR20-G3, CC11-160 CARBON CUB SS,...</td>\n",
       "    </tr>\n",
       "    <tr>\n",
       "      <th>7</th>\n",
       "      <td>Location</td>\n",
       "      <td>object</td>\n",
       "      <td>12</td>\n",
       "      <td>0.47</td>\n",
       "      <td>1007</td>\n",
       "      <td>[FL\\n\\t                           USA, Farming...</td>\n",
       "    </tr>\n",
       "    <tr>\n",
       "      <th>8</th>\n",
       "      <td>S/N</td>\n",
       "      <td>object</td>\n",
       "      <td>3</td>\n",
       "      <td>0.12</td>\n",
       "      <td>1824</td>\n",
       "      <td>[Not Listed, 2081, CC11-00168, 1119, E-4100, 1...</td>\n",
       "    </tr>\n",
       "    <tr>\n",
       "      <th>9</th>\n",
       "      <td>REG</td>\n",
       "      <td>object</td>\n",
       "      <td>2</td>\n",
       "      <td>0.08</td>\n",
       "      <td>2029</td>\n",
       "      <td>[TBD, N187PH, N160TJ, N619MT, N71RW, N686AG, N...</td>\n",
       "    </tr>\n",
       "    <tr>\n",
       "      <th>10</th>\n",
       "      <td>Total Hours</td>\n",
       "      <td>object</td>\n",
       "      <td>97</td>\n",
       "      <td>3.83</td>\n",
       "      <td>1832</td>\n",
       "      <td>[nan, 1740, 175, 738, 250, 996, 50, 1118, 230,...</td>\n",
       "    </tr>\n",
       "    <tr>\n",
       "      <th>11</th>\n",
       "      <td>Engine 1 Hours</td>\n",
       "      <td>object</td>\n",
       "      <td>948</td>\n",
       "      <td>37.47</td>\n",
       "      <td>1252</td>\n",
       "      <td>[nan, 1740 SNEW, 175 SNEW, 738 HOURS, 250 SNEW...</td>\n",
       "    </tr>\n",
       "    <tr>\n",
       "      <th>12</th>\n",
       "      <td>Engine 2 Hours</td>\n",
       "      <td>object</td>\n",
       "      <td>2149</td>\n",
       "      <td>84.94</td>\n",
       "      <td>352</td>\n",
       "      <td>[nan, 175 SNEW, 995 SMOH, 215 SMOH, 975 SOH, 9...</td>\n",
       "    </tr>\n",
       "    <tr>\n",
       "      <th>13</th>\n",
       "      <td>Prop 1 Hours</td>\n",
       "      <td>object</td>\n",
       "      <td>1365</td>\n",
       "      <td>53.95</td>\n",
       "      <td>913</td>\n",
       "      <td>[nan, 1740 SNEW, 160 SNEW, 738 HOURS, 996 SNEW...</td>\n",
       "    </tr>\n",
       "    <tr>\n",
       "      <th>14</th>\n",
       "      <td>Prop 2 Hours</td>\n",
       "      <td>object</td>\n",
       "      <td>2267</td>\n",
       "      <td>89.60</td>\n",
       "      <td>243</td>\n",
       "      <td>[nan, 172 SPOH, 625 SNEW, 1179 SPOH, 210 SMOH,...</td>\n",
       "    </tr>\n",
       "    <tr>\n",
       "      <th>15</th>\n",
       "      <td>Total Seats</td>\n",
       "      <td>float64</td>\n",
       "      <td>1378</td>\n",
       "      <td>54.47</td>\n",
       "      <td>15</td>\n",
       "      <td>[nan, 5.0, 6.0, 2.0, 4.0, 8.0, 11.0, 1.0, 3.0,...</td>\n",
       "    </tr>\n",
       "    <tr>\n",
       "      <th>16</th>\n",
       "      <td>Flight Rules</td>\n",
       "      <td>object</td>\n",
       "      <td>1662</td>\n",
       "      <td>65.69</td>\n",
       "      <td>3</td>\n",
       "      <td>[nan, IFR, BTH, VFR]</td>\n",
       "    </tr>\n",
       "    <tr>\n",
       "      <th>17</th>\n",
       "      <td>National Origin</td>\n",
       "      <td>object</td>\n",
       "      <td>8</td>\n",
       "      <td>0.32</td>\n",
       "      <td>26</td>\n",
       "      <td>[United States, Czech Republic, Germany, Brita...</td>\n",
       "    </tr>\n",
       "  </tbody>\n",
       "</table>\n",
       "</div>"
      ],
      "text/plain": [
       "      Data Features Data Types   NaN  NaN Percentage  Unique  \\\n",
       "0         Condition     object   769           30.40       3   \n",
       "1             Price     object     0            0.00    1160   \n",
       "2          Currency     object   552           21.82       5   \n",
       "3          Category     object     0            0.00      13   \n",
       "4              Year     object     0            0.00      94   \n",
       "5              Make     object     0            0.00     187   \n",
       "6             Model     object     0            0.00    1020   \n",
       "7          Location     object    12            0.47    1007   \n",
       "8               S/N     object     3            0.12    1824   \n",
       "9               REG     object     2            0.08    2029   \n",
       "10      Total Hours     object    97            3.83    1832   \n",
       "11   Engine 1 Hours     object   948           37.47    1252   \n",
       "12   Engine 2 Hours     object  2149           84.94     352   \n",
       "13     Prop 1 Hours     object  1365           53.95     913   \n",
       "14     Prop 2 Hours     object  2267           89.60     243   \n",
       "15      Total Seats    float64  1378           54.47      15   \n",
       "16     Flight Rules     object  1662           65.69       3   \n",
       "17  National Origin     object     8            0.32      26   \n",
       "\n",
       "                                        Unique Sample  \n",
       "0                           [New, Used, Project, nan]  \n",
       "1   [$387,000 , $294,900 , $184,900 , $609,000 , $...  \n",
       "2                      [USD, EUR, CHF, CAD, GBP, nan]  \n",
       "3   [Piston Helicopters, Single Engine Piston, Pri...  \n",
       "4   [2020, 2011, 2015, 2016, 2017, 2018, 1980, 198...  \n",
       "5   [ROBINSON HELICOPTER, CIRRUS, CUBCRAFTERS, BEE...  \n",
       "6   [R44 RAVEN I, SR20-G3, CC11-160 CARBON CUB SS,...  \n",
       "7   [FL\\n\\t                           USA, Farming...  \n",
       "8   [Not Listed, 2081, CC11-00168, 1119, E-4100, 1...  \n",
       "9   [TBD, N187PH, N160TJ, N619MT, N71RW, N686AG, N...  \n",
       "10  [nan, 1740, 175, 738, 250, 996, 50, 1118, 230,...  \n",
       "11  [nan, 1740 SNEW, 175 SNEW, 738 HOURS, 250 SNEW...  \n",
       "12  [nan, 175 SNEW, 995 SMOH, 215 SMOH, 975 SOH, 9...  \n",
       "13  [nan, 1740 SNEW, 160 SNEW, 738 HOURS, 996 SNEW...  \n",
       "14  [nan, 172 SPOH, 625 SNEW, 1179 SPOH, 210 SMOH,...  \n",
       "15  [nan, 5.0, 6.0, 2.0, 4.0, 8.0, 11.0, 1.0, 3.0,...  \n",
       "16                               [nan, IFR, BTH, VFR]  \n",
       "17  [United States, Czech Republic, Germany, Brita...  "
      ]
     },
     "execution_count": 8,
     "metadata": {},
     "output_type": "execute_result"
    }
   ],
   "source": [
    "df_desc = pd.DataFrame(df_desc, columns = ['Data Features', 'Data Types', 'NaN', 'NaN Percentage', 'Unique', 'Unique Sample'])\n",
    "df_desc"
   ]
  },
  {
   "cell_type": "code",
   "execution_count": 9,
   "metadata": {},
   "outputs": [
    {
     "data": {
      "text/html": [
       "<div>\n",
       "<style scoped>\n",
       "    .dataframe tbody tr th:only-of-type {\n",
       "        vertical-align: middle;\n",
       "    }\n",
       "\n",
       "    .dataframe tbody tr th {\n",
       "        vertical-align: top;\n",
       "    }\n",
       "\n",
       "    .dataframe thead th {\n",
       "        text-align: right;\n",
       "    }\n",
       "</style>\n",
       "<table border=\"1\" class=\"dataframe\">\n",
       "  <thead>\n",
       "    <tr style=\"text-align: right;\">\n",
       "      <th></th>\n",
       "      <th>Total Seats</th>\n",
       "    </tr>\n",
       "  </thead>\n",
       "  <tbody>\n",
       "    <tr>\n",
       "      <th>count</th>\n",
       "      <td>1152.000000</td>\n",
       "    </tr>\n",
       "    <tr>\n",
       "      <th>mean</th>\n",
       "      <td>4.331597</td>\n",
       "    </tr>\n",
       "    <tr>\n",
       "      <th>std</th>\n",
       "      <td>2.504094</td>\n",
       "    </tr>\n",
       "    <tr>\n",
       "      <th>min</th>\n",
       "      <td>1.000000</td>\n",
       "    </tr>\n",
       "    <tr>\n",
       "      <th>25%</th>\n",
       "      <td>2.000000</td>\n",
       "    </tr>\n",
       "    <tr>\n",
       "      <th>50%</th>\n",
       "      <td>4.000000</td>\n",
       "    </tr>\n",
       "    <tr>\n",
       "      <th>75%</th>\n",
       "      <td>6.000000</td>\n",
       "    </tr>\n",
       "    <tr>\n",
       "      <th>max</th>\n",
       "      <td>56.000000</td>\n",
       "    </tr>\n",
       "  </tbody>\n",
       "</table>\n",
       "</div>"
      ],
      "text/plain": [
       "       Total Seats\n",
       "count  1152.000000\n",
       "mean      4.331597\n",
       "std       2.504094\n",
       "min       1.000000\n",
       "25%       2.000000\n",
       "50%       4.000000\n",
       "75%       6.000000\n",
       "max      56.000000"
      ]
     },
     "execution_count": 9,
     "metadata": {},
     "output_type": "execute_result"
    }
   ],
   "source": [
    "df.describe()"
   ]
  },
  {
   "cell_type": "markdown",
   "metadata": {},
   "source": [
    "## Handle Missing Data"
   ]
  },
  {
   "cell_type": "markdown",
   "metadata": {},
   "source": [
    "Karena NaN Value lebih dari 60% maka di drop"
   ]
  },
  {
   "cell_type": "code",
   "execution_count": 10,
   "metadata": {},
   "outputs": [],
   "source": [
    "# df.drop(columns='Engine 2 Hours', inplace=True)"
   ]
  },
  {
   "cell_type": "code",
   "execution_count": 11,
   "metadata": {},
   "outputs": [],
   "source": [
    "# df.drop(columns='Prop 2 Hours', inplace=True)"
   ]
  },
  {
   "cell_type": "code",
   "execution_count": 12,
   "metadata": {},
   "outputs": [],
   "source": [
    "# df.drop(columns='Flight Rules', inplace=True)"
   ]
  },
  {
   "cell_type": "code",
   "execution_count": 13,
   "metadata": {},
   "outputs": [
    {
     "data": {
      "text/html": [
       "<div>\n",
       "<style scoped>\n",
       "    .dataframe tbody tr th:only-of-type {\n",
       "        vertical-align: middle;\n",
       "    }\n",
       "\n",
       "    .dataframe tbody tr th {\n",
       "        vertical-align: top;\n",
       "    }\n",
       "\n",
       "    .dataframe thead th {\n",
       "        text-align: right;\n",
       "    }\n",
       "</style>\n",
       "<table border=\"1\" class=\"dataframe\">\n",
       "  <thead>\n",
       "    <tr style=\"text-align: right;\">\n",
       "      <th></th>\n",
       "      <th>Condition</th>\n",
       "      <th>Price</th>\n",
       "      <th>Currency</th>\n",
       "      <th>Category</th>\n",
       "      <th>Year</th>\n",
       "      <th>Make</th>\n",
       "      <th>Model</th>\n",
       "      <th>Location</th>\n",
       "      <th>S/N</th>\n",
       "      <th>REG</th>\n",
       "      <th>Total Hours</th>\n",
       "      <th>Engine 1 Hours</th>\n",
       "      <th>Engine 2 Hours</th>\n",
       "      <th>Prop 1 Hours</th>\n",
       "      <th>Prop 2 Hours</th>\n",
       "      <th>Total Seats</th>\n",
       "      <th>Flight Rules</th>\n",
       "      <th>National Origin</th>\n",
       "    </tr>\n",
       "  </thead>\n",
       "  <tbody>\n",
       "    <tr>\n",
       "      <th>0</th>\n",
       "      <td>New</td>\n",
       "      <td>$387,000</td>\n",
       "      <td>USD</td>\n",
       "      <td>Piston Helicopters</td>\n",
       "      <td>2020</td>\n",
       "      <td>ROBINSON HELICOPTER</td>\n",
       "      <td>R44 RAVEN I</td>\n",
       "      <td>FL\\n\\t                           USA</td>\n",
       "      <td>Not Listed</td>\n",
       "      <td>TBD</td>\n",
       "      <td>NaN</td>\n",
       "      <td>NaN</td>\n",
       "      <td>NaN</td>\n",
       "      <td>NaN</td>\n",
       "      <td>NaN</td>\n",
       "      <td>NaN</td>\n",
       "      <td>NaN</td>\n",
       "      <td>United States</td>\n",
       "    </tr>\n",
       "    <tr>\n",
       "      <th>1</th>\n",
       "      <td>Used</td>\n",
       "      <td>$294,900</td>\n",
       "      <td>USD</td>\n",
       "      <td>Single Engine Piston</td>\n",
       "      <td>2011</td>\n",
       "      <td>CIRRUS</td>\n",
       "      <td>SR20-G3</td>\n",
       "      <td>Farmingdale (KFRG),\\n\\t                       ...</td>\n",
       "      <td>2081</td>\n",
       "      <td>N187PH</td>\n",
       "      <td>1740</td>\n",
       "      <td>1740 SNEW</td>\n",
       "      <td>NaN</td>\n",
       "      <td>1740 SNEW</td>\n",
       "      <td>NaN</td>\n",
       "      <td>NaN</td>\n",
       "      <td>NaN</td>\n",
       "      <td>United States</td>\n",
       "    </tr>\n",
       "    <tr>\n",
       "      <th>2</th>\n",
       "      <td>Used</td>\n",
       "      <td>$184,900</td>\n",
       "      <td>USD</td>\n",
       "      <td>Single Engine Piston</td>\n",
       "      <td>2011</td>\n",
       "      <td>CUBCRAFTERS</td>\n",
       "      <td>CC11-160 CARBON CUB SS</td>\n",
       "      <td>Louisburg,\\n\\t                           NC\\n\\...</td>\n",
       "      <td>CC11-00168</td>\n",
       "      <td>N160TJ</td>\n",
       "      <td>175</td>\n",
       "      <td>175 SNEW</td>\n",
       "      <td>NaN</td>\n",
       "      <td>160 SNEW</td>\n",
       "      <td>NaN</td>\n",
       "      <td>NaN</td>\n",
       "      <td>NaN</td>\n",
       "      <td>United States</td>\n",
       "    </tr>\n",
       "    <tr>\n",
       "      <th>3</th>\n",
       "      <td>Used</td>\n",
       "      <td>$609,000</td>\n",
       "      <td>USD</td>\n",
       "      <td>Single Engine Piston</td>\n",
       "      <td>2015</td>\n",
       "      <td>CIRRUS</td>\n",
       "      <td>SR22-G5 TURBO</td>\n",
       "      <td>Knoxville,\\n\\t                           TN\\n\\...</td>\n",
       "      <td>1119</td>\n",
       "      <td>N619MT</td>\n",
       "      <td>738</td>\n",
       "      <td>738 HOURS</td>\n",
       "      <td>NaN</td>\n",
       "      <td>738 HOURS</td>\n",
       "      <td>NaN</td>\n",
       "      <td>5.0</td>\n",
       "      <td>IFR</td>\n",
       "      <td>United States</td>\n",
       "    </tr>\n",
       "    <tr>\n",
       "      <th>4</th>\n",
       "      <td>Used</td>\n",
       "      <td>$699,000</td>\n",
       "      <td>USD</td>\n",
       "      <td>Single Engine Piston</td>\n",
       "      <td>2016</td>\n",
       "      <td>BEECHCRAFT</td>\n",
       "      <td>G36 BONANZA</td>\n",
       "      <td>Greensboro,\\n\\t                           NC\\n...</td>\n",
       "      <td>E-4100</td>\n",
       "      <td>N71RW</td>\n",
       "      <td>175</td>\n",
       "      <td>175 SNEW</td>\n",
       "      <td>175 SNEW</td>\n",
       "      <td>NaN</td>\n",
       "      <td>NaN</td>\n",
       "      <td>6.0</td>\n",
       "      <td>NaN</td>\n",
       "      <td>United States</td>\n",
       "    </tr>\n",
       "  </tbody>\n",
       "</table>\n",
       "</div>"
      ],
      "text/plain": [
       "  Condition      Price Currency              Category  Year  \\\n",
       "0       New  $387,000       USD    Piston Helicopters  2020   \n",
       "1      Used  $294,900       USD  Single Engine Piston  2011   \n",
       "2      Used  $184,900       USD  Single Engine Piston  2011   \n",
       "3      Used  $609,000       USD  Single Engine Piston  2015   \n",
       "4      Used  $699,000       USD  Single Engine Piston  2016   \n",
       "\n",
       "                  Make                   Model  \\\n",
       "0  ROBINSON HELICOPTER             R44 RAVEN I   \n",
       "1               CIRRUS                 SR20-G3   \n",
       "2          CUBCRAFTERS  CC11-160 CARBON CUB SS   \n",
       "3               CIRRUS           SR22-G5 TURBO   \n",
       "4           BEECHCRAFT             G36 BONANZA   \n",
       "\n",
       "                                            Location         S/N     REG  \\\n",
       "0               FL\\n\\t                           USA  Not Listed     TBD   \n",
       "1  Farmingdale (KFRG),\\n\\t                       ...        2081  N187PH   \n",
       "2  Louisburg,\\n\\t                           NC\\n\\...  CC11-00168  N160TJ   \n",
       "3  Knoxville,\\n\\t                           TN\\n\\...        1119  N619MT   \n",
       "4  Greensboro,\\n\\t                           NC\\n...      E-4100   N71RW   \n",
       "\n",
       "  Total Hours Engine 1 Hours Engine 2 Hours Prop 1 Hours Prop 2 Hours  \\\n",
       "0         NaN            NaN            NaN          NaN          NaN   \n",
       "1        1740      1740 SNEW            NaN    1740 SNEW          NaN   \n",
       "2         175       175 SNEW            NaN     160 SNEW          NaN   \n",
       "3         738      738 HOURS            NaN    738 HOURS          NaN   \n",
       "4         175       175 SNEW       175 SNEW          NaN          NaN   \n",
       "\n",
       "   Total Seats Flight Rules National Origin  \n",
       "0          NaN          NaN   United States  \n",
       "1          NaN          NaN   United States  \n",
       "2          NaN          NaN   United States  \n",
       "3          5.0          IFR   United States  \n",
       "4          6.0          NaN   United States  "
      ]
     },
     "execution_count": 13,
     "metadata": {},
     "output_type": "execute_result"
    }
   ],
   "source": [
    "df.head()"
   ]
  },
  {
   "cell_type": "code",
   "execution_count": 14,
   "metadata": {},
   "outputs": [],
   "source": [
    "df['Price'] = df['Price'].str.strip('$')"
   ]
  },
  {
   "cell_type": "code",
   "execution_count": 15,
   "metadata": {},
   "outputs": [],
   "source": [
    "df['Price'] = df['Price'].str.replace(',','')"
   ]
  },
  {
   "cell_type": "code",
   "execution_count": 16,
   "metadata": {},
   "outputs": [],
   "source": [
    "df['Price'] = df['Price'].str.strip(' ')"
   ]
  },
  {
   "cell_type": "code",
   "execution_count": 17,
   "metadata": {},
   "outputs": [],
   "source": [
    "df['Price'] = df['Price'].str.replace(\"\",'')"
   ]
  },
  {
   "cell_type": "code",
   "execution_count": 18,
   "metadata": {},
   "outputs": [],
   "source": [
    "df['Price'] = df['Price'].str.strip(\"Price:\")"
   ]
  },
  {
   "cell_type": "code",
   "execution_count": 19,
   "metadata": {},
   "outputs": [],
   "source": [
    "df['Price'] = df['Price'].str.strip(\"USD $\")"
   ]
  },
  {
   "cell_type": "code",
   "execution_count": 20,
   "metadata": {},
   "outputs": [],
   "source": [
    "df['Price'] = df['Price'].str.strip(\"Â£\")"
   ]
  },
  {
   "cell_type": "code",
   "execution_count": 21,
   "metadata": {},
   "outputs": [],
   "source": [
    "df['Price'] = df['Price'].str.strip(\"\")"
   ]
  },
  {
   "cell_type": "code",
   "execution_count": 22,
   "metadata": {},
   "outputs": [],
   "source": [
    "df['Price'] = df['Price'].str.strip(\"NEW\")"
   ]
  },
  {
   "cell_type": "code",
   "execution_count": 23,
   "metadata": {},
   "outputs": [],
   "source": [
    "df['Price'] = df['Price'].str.strip(\"â‚¬\")"
   ]
  },
  {
   "cell_type": "code",
   "execution_count": 24,
   "metadata": {},
   "outputs": [],
   "source": [
    "df['Price'] = pd.to_numeric(df['Price'],errors='coerce')"
   ]
  },
  {
   "cell_type": "code",
   "execution_count": 25,
   "metadata": {},
   "outputs": [],
   "source": [
    "df['Price'] = df['Price'].replace(np.nan, 0, regex=True)"
   ]
  },
  {
   "cell_type": "code",
   "execution_count": 26,
   "metadata": {},
   "outputs": [],
   "source": [
    "df['Price'] = df['Price'].astype('int')"
   ]
  },
  {
   "cell_type": "code",
   "execution_count": 27,
   "metadata": {},
   "outputs": [
    {
     "data": {
      "text/plain": [
       "Condition           object\n",
       "Price                int32\n",
       "Currency            object\n",
       "Category            object\n",
       "Year                object\n",
       "Make                object\n",
       "Model               object\n",
       "Location            object\n",
       "S/N                 object\n",
       "REG                 object\n",
       "Total Hours         object\n",
       "Engine 1 Hours      object\n",
       "Engine 2 Hours      object\n",
       "Prop 1 Hours        object\n",
       "Prop 2 Hours        object\n",
       "Total Seats        float64\n",
       "Flight Rules        object\n",
       "National Origin     object\n",
       "dtype: object"
      ]
     },
     "execution_count": 27,
     "metadata": {},
     "output_type": "execute_result"
    }
   ],
   "source": [
    "df.dtypes"
   ]
  },
  {
   "cell_type": "code",
   "execution_count": 28,
   "metadata": {},
   "outputs": [
    {
     "data": {
      "text/plain": [
       "85000      21\n",
       "225000     21\n",
       "65000      21\n",
       "165000     20\n",
       "110000     19\n",
       "           ..\n",
       "1175000     1\n",
       "239950      1\n",
       "1199000     1\n",
       "22850       1\n",
       "0           1\n",
       "Name: Price, Length: 879, dtype: int64"
      ]
     },
     "execution_count": 28,
     "metadata": {},
     "output_type": "execute_result"
    }
   ],
   "source": [
    "df['Price'].value_counts()"
   ]
  },
  {
   "cell_type": "code",
   "execution_count": 29,
   "metadata": {},
   "outputs": [],
   "source": [
    "regex = r'^(\\d{4})'"
   ]
  },
  {
   "cell_type": "code",
   "execution_count": 30,
   "metadata": {},
   "outputs": [],
   "source": [
    "df['Year'] = df['Year'].str.extract(r'^(\\d{4})', expand=False)"
   ]
  },
  {
   "cell_type": "code",
   "execution_count": 31,
   "metadata": {},
   "outputs": [
    {
     "data": {
      "text/plain": [
       "1978    86\n",
       "1979    85\n",
       "1977    81\n",
       "2007    81\n",
       "1981    77\n",
       "        ..\n",
       "1937     1\n",
       "2021     1\n",
       "1922     1\n",
       "1935     1\n",
       "1927     1\n",
       "Name: Year, Length: 92, dtype: int64"
      ]
     },
     "execution_count": 31,
     "metadata": {},
     "output_type": "execute_result"
    }
   ],
   "source": [
    "df['Year'].value_counts()"
   ]
  },
  {
   "cell_type": "code",
   "execution_count": 32,
   "metadata": {},
   "outputs": [
    {
     "data": {
      "text/plain": [
       "dtype('float64')"
      ]
     },
     "execution_count": 32,
     "metadata": {},
     "output_type": "execute_result"
    }
   ],
   "source": [
    "df['Year'] = pd.to_numeric(df['Year'])\n",
    "df['Year'].dtype"
   ]
  },
  {
   "cell_type": "code",
   "execution_count": 33,
   "metadata": {},
   "outputs": [],
   "source": [
    "df['Total Hours'] = df['Total Hours'].str.extract(r'^(\\d{4})', expand=False)"
   ]
  },
  {
   "cell_type": "code",
   "execution_count": 34,
   "metadata": {},
   "outputs": [
    {
     "data": {
      "text/plain": [
       "2200    12\n",
       "1200    10\n",
       "2000     8\n",
       "1100     7\n",
       "1900     6\n",
       "        ..\n",
       "4560     1\n",
       "8656     1\n",
       "9345     1\n",
       "2306     1\n",
       "3681     1\n",
       "Name: Total Hours, Length: 1353, dtype: int64"
      ]
     },
     "execution_count": 34,
     "metadata": {},
     "output_type": "execute_result"
    }
   ],
   "source": [
    "df['Total Hours'].value_counts()"
   ]
  },
  {
   "cell_type": "code",
   "execution_count": 35,
   "metadata": {},
   "outputs": [],
   "source": [
    "df['Total Hours'] = df['Total Hours'].str.strip(\"hrs\")"
   ]
  },
  {
   "cell_type": "code",
   "execution_count": 36,
   "metadata": {},
   "outputs": [],
   "source": [
    "# df['Total Hours'] = pd.to_numeric(df['Total Hours'],errors='coerce')\n",
    "# df['Total Hours'] = df['Total Hours'].replace(np.nan, 0, regex=True)\n",
    "# df['Total Hours'] = df['Total Hours'].astype('int')"
   ]
  },
  {
   "cell_type": "code",
   "execution_count": 37,
   "metadata": {},
   "outputs": [
    {
     "data": {
      "text/plain": [
       "dtype('float64')"
      ]
     },
     "execution_count": 37,
     "metadata": {},
     "output_type": "execute_result"
    }
   ],
   "source": [
    "df['Total Hours'] = pd.to_numeric(df['Total Hours'])\n",
    "df['Total Hours'].dtype"
   ]
  },
  {
   "cell_type": "code",
   "execution_count": 38,
   "metadata": {},
   "outputs": [
    {
     "data": {
      "text/plain": [
       "dtype('O')"
      ]
     },
     "execution_count": 38,
     "metadata": {},
     "output_type": "execute_result"
    }
   ],
   "source": [
    "df['Engine 1 Hours'].dtypes"
   ]
  },
  {
   "cell_type": "code",
   "execution_count": 39,
   "metadata": {},
   "outputs": [],
   "source": [
    "df['Engine 1 Hours'] = df['Engine 1 Hours'].str.extract(r'^(\\d{4})', expand=False)"
   ]
  },
  {
   "cell_type": "code",
   "execution_count": 40,
   "metadata": {},
   "outputs": [
    {
     "data": {
      "text/plain": [
       "1450    10\n",
       "1250     9\n",
       "1100     6\n",
       "1200     6\n",
       "1000     5\n",
       "        ..\n",
       "6232     1\n",
       "1253     1\n",
       "1445     1\n",
       "1204     1\n",
       "1882     1\n",
       "Name: Engine 1 Hours, Length: 401, dtype: int64"
      ]
     },
     "execution_count": 40,
     "metadata": {},
     "output_type": "execute_result"
    }
   ],
   "source": [
    "df['Engine 1 Hours'].value_counts()"
   ]
  },
  {
   "cell_type": "code",
   "execution_count": 41,
   "metadata": {},
   "outputs": [],
   "source": [
    "# df['Engine 1 Hours'] = pd.to_numeric(df['Engine 1 Hours'],errors='coerce')\n",
    "# df['Engine 1 Hours'] = df['Engine 1 Hours'].replace(np.nan, 0, regex=True)\n",
    "# df['Engine 1 Hours'] = df['Engine 1 Hours'].astype('int')"
   ]
  },
  {
   "cell_type": "code",
   "execution_count": 42,
   "metadata": {},
   "outputs": [
    {
     "data": {
      "text/plain": [
       "dtype('float64')"
      ]
     },
     "execution_count": 42,
     "metadata": {},
     "output_type": "execute_result"
    }
   ],
   "source": [
    "df['Engine 1 Hours'] = pd.to_numeric(df['Engine 1 Hours'])\n",
    "df['Engine 1 Hours'].dtype"
   ]
  },
  {
   "cell_type": "code",
   "execution_count": 43,
   "metadata": {},
   "outputs": [],
   "source": [
    "df['Engine 2 Hours'] = df['Engine 2 Hours'].str.extract(r'^(\\d{4})', expand=False)"
   ]
  },
  {
   "cell_type": "code",
   "execution_count": 44,
   "metadata": {},
   "outputs": [
    {
     "data": {
      "text/plain": [
       "dtype('float64')"
      ]
     },
     "execution_count": 44,
     "metadata": {},
     "output_type": "execute_result"
    }
   ],
   "source": [
    "df['Engine 2 Hours'] = pd.to_numeric(df['Engine 2 Hours'])\n",
    "df['Engine 2 Hours'].dtype"
   ]
  },
  {
   "cell_type": "code",
   "execution_count": 45,
   "metadata": {},
   "outputs": [],
   "source": [
    "df['Prop 1 Hours'] = df['Prop 1 Hours'].str.extract(r'^(\\d{4})', expand=False)"
   ]
  },
  {
   "cell_type": "code",
   "execution_count": 46,
   "metadata": {},
   "outputs": [
    {
     "data": {
      "text/plain": [
       "dtype('float64')"
      ]
     },
     "execution_count": 46,
     "metadata": {},
     "output_type": "execute_result"
    }
   ],
   "source": [
    "df['Prop 1 Hours'] = pd.to_numeric(df['Prop 1 Hours'])\n",
    "df['Prop 1 Hours'].dtype"
   ]
  },
  {
   "cell_type": "code",
   "execution_count": 47,
   "metadata": {},
   "outputs": [],
   "source": [
    "df['Prop 2 Hours'] = df['Prop 2 Hours'].str.extract(r'^(\\d{4})', expand=False)"
   ]
  },
  {
   "cell_type": "code",
   "execution_count": 48,
   "metadata": {},
   "outputs": [
    {
     "data": {
      "text/plain": [
       "dtype('float64')"
      ]
     },
     "execution_count": 48,
     "metadata": {},
     "output_type": "execute_result"
    }
   ],
   "source": [
    "df['Prop 2 Hours'] = pd.to_numeric(df['Prop 2 Hours'])\n",
    "df['Prop 2 Hours'].dtype"
   ]
  },
  {
   "cell_type": "code",
   "execution_count": 49,
   "metadata": {},
   "outputs": [
    {
     "data": {
      "text/plain": [
       "Condition           object\n",
       "Price                int32\n",
       "Currency            object\n",
       "Category            object\n",
       "Year               float64\n",
       "Make                object\n",
       "Model               object\n",
       "Location            object\n",
       "S/N                 object\n",
       "REG                 object\n",
       "Total Hours        float64\n",
       "Engine 1 Hours     float64\n",
       "Engine 2 Hours     float64\n",
       "Prop 1 Hours       float64\n",
       "Prop 2 Hours       float64\n",
       "Total Seats        float64\n",
       "Flight Rules        object\n",
       "National Origin     object\n",
       "dtype: object"
      ]
     },
     "execution_count": 49,
     "metadata": {},
     "output_type": "execute_result"
    }
   ],
   "source": [
    "df.dtypes"
   ]
  },
  {
   "cell_type": "code",
   "execution_count": 50,
   "metadata": {},
   "outputs": [],
   "source": [
    "# df.drop(columns=['S/N'], inplace=True )"
   ]
  },
  {
   "cell_type": "code",
   "execution_count": 51,
   "metadata": {},
   "outputs": [
    {
     "data": {
      "text/html": [
       "<div>\n",
       "<style scoped>\n",
       "    .dataframe tbody tr th:only-of-type {\n",
       "        vertical-align: middle;\n",
       "    }\n",
       "\n",
       "    .dataframe tbody tr th {\n",
       "        vertical-align: top;\n",
       "    }\n",
       "\n",
       "    .dataframe thead th {\n",
       "        text-align: right;\n",
       "    }\n",
       "</style>\n",
       "<table border=\"1\" class=\"dataframe\">\n",
       "  <thead>\n",
       "    <tr style=\"text-align: right;\">\n",
       "      <th></th>\n",
       "      <th>Condition</th>\n",
       "      <th>Price</th>\n",
       "      <th>Currency</th>\n",
       "      <th>Category</th>\n",
       "      <th>Year</th>\n",
       "      <th>Make</th>\n",
       "      <th>Model</th>\n",
       "      <th>Location</th>\n",
       "      <th>S/N</th>\n",
       "      <th>REG</th>\n",
       "      <th>Total Hours</th>\n",
       "      <th>Engine 1 Hours</th>\n",
       "      <th>Engine 2 Hours</th>\n",
       "      <th>Prop 1 Hours</th>\n",
       "      <th>Prop 2 Hours</th>\n",
       "      <th>Total Seats</th>\n",
       "      <th>Flight Rules</th>\n",
       "      <th>National Origin</th>\n",
       "    </tr>\n",
       "  </thead>\n",
       "  <tbody>\n",
       "    <tr>\n",
       "      <th>0</th>\n",
       "      <td>New</td>\n",
       "      <td>387000</td>\n",
       "      <td>USD</td>\n",
       "      <td>Piston Helicopters</td>\n",
       "      <td>2020.0</td>\n",
       "      <td>ROBINSON HELICOPTER</td>\n",
       "      <td>R44 RAVEN I</td>\n",
       "      <td>FL\\n\\t                           USA</td>\n",
       "      <td>Not Listed</td>\n",
       "      <td>TBD</td>\n",
       "      <td>NaN</td>\n",
       "      <td>NaN</td>\n",
       "      <td>NaN</td>\n",
       "      <td>NaN</td>\n",
       "      <td>NaN</td>\n",
       "      <td>NaN</td>\n",
       "      <td>NaN</td>\n",
       "      <td>United States</td>\n",
       "    </tr>\n",
       "    <tr>\n",
       "      <th>1</th>\n",
       "      <td>Used</td>\n",
       "      <td>294900</td>\n",
       "      <td>USD</td>\n",
       "      <td>Single Engine Piston</td>\n",
       "      <td>2011.0</td>\n",
       "      <td>CIRRUS</td>\n",
       "      <td>SR20-G3</td>\n",
       "      <td>Farmingdale (KFRG),\\n\\t                       ...</td>\n",
       "      <td>2081</td>\n",
       "      <td>N187PH</td>\n",
       "      <td>1740.0</td>\n",
       "      <td>1740.0</td>\n",
       "      <td>NaN</td>\n",
       "      <td>1740.0</td>\n",
       "      <td>NaN</td>\n",
       "      <td>NaN</td>\n",
       "      <td>NaN</td>\n",
       "      <td>United States</td>\n",
       "    </tr>\n",
       "    <tr>\n",
       "      <th>2</th>\n",
       "      <td>Used</td>\n",
       "      <td>184900</td>\n",
       "      <td>USD</td>\n",
       "      <td>Single Engine Piston</td>\n",
       "      <td>2011.0</td>\n",
       "      <td>CUBCRAFTERS</td>\n",
       "      <td>CC11-160 CARBON CUB SS</td>\n",
       "      <td>Louisburg,\\n\\t                           NC\\n\\...</td>\n",
       "      <td>CC11-00168</td>\n",
       "      <td>N160TJ</td>\n",
       "      <td>NaN</td>\n",
       "      <td>NaN</td>\n",
       "      <td>NaN</td>\n",
       "      <td>NaN</td>\n",
       "      <td>NaN</td>\n",
       "      <td>NaN</td>\n",
       "      <td>NaN</td>\n",
       "      <td>United States</td>\n",
       "    </tr>\n",
       "    <tr>\n",
       "      <th>3</th>\n",
       "      <td>Used</td>\n",
       "      <td>609000</td>\n",
       "      <td>USD</td>\n",
       "      <td>Single Engine Piston</td>\n",
       "      <td>2015.0</td>\n",
       "      <td>CIRRUS</td>\n",
       "      <td>SR22-G5 TURBO</td>\n",
       "      <td>Knoxville,\\n\\t                           TN\\n\\...</td>\n",
       "      <td>1119</td>\n",
       "      <td>N619MT</td>\n",
       "      <td>NaN</td>\n",
       "      <td>NaN</td>\n",
       "      <td>NaN</td>\n",
       "      <td>NaN</td>\n",
       "      <td>NaN</td>\n",
       "      <td>5.0</td>\n",
       "      <td>IFR</td>\n",
       "      <td>United States</td>\n",
       "    </tr>\n",
       "    <tr>\n",
       "      <th>4</th>\n",
       "      <td>Used</td>\n",
       "      <td>699000</td>\n",
       "      <td>USD</td>\n",
       "      <td>Single Engine Piston</td>\n",
       "      <td>2016.0</td>\n",
       "      <td>BEECHCRAFT</td>\n",
       "      <td>G36 BONANZA</td>\n",
       "      <td>Greensboro,\\n\\t                           NC\\n...</td>\n",
       "      <td>E-4100</td>\n",
       "      <td>N71RW</td>\n",
       "      <td>NaN</td>\n",
       "      <td>NaN</td>\n",
       "      <td>NaN</td>\n",
       "      <td>NaN</td>\n",
       "      <td>NaN</td>\n",
       "      <td>6.0</td>\n",
       "      <td>NaN</td>\n",
       "      <td>United States</td>\n",
       "    </tr>\n",
       "  </tbody>\n",
       "</table>\n",
       "</div>"
      ],
      "text/plain": [
       "  Condition   Price Currency              Category    Year  \\\n",
       "0       New  387000      USD    Piston Helicopters  2020.0   \n",
       "1      Used  294900      USD  Single Engine Piston  2011.0   \n",
       "2      Used  184900      USD  Single Engine Piston  2011.0   \n",
       "3      Used  609000      USD  Single Engine Piston  2015.0   \n",
       "4      Used  699000      USD  Single Engine Piston  2016.0   \n",
       "\n",
       "                  Make                   Model  \\\n",
       "0  ROBINSON HELICOPTER             R44 RAVEN I   \n",
       "1               CIRRUS                 SR20-G3   \n",
       "2          CUBCRAFTERS  CC11-160 CARBON CUB SS   \n",
       "3               CIRRUS           SR22-G5 TURBO   \n",
       "4           BEECHCRAFT             G36 BONANZA   \n",
       "\n",
       "                                            Location         S/N     REG  \\\n",
       "0               FL\\n\\t                           USA  Not Listed     TBD   \n",
       "1  Farmingdale (KFRG),\\n\\t                       ...        2081  N187PH   \n",
       "2  Louisburg,\\n\\t                           NC\\n\\...  CC11-00168  N160TJ   \n",
       "3  Knoxville,\\n\\t                           TN\\n\\...        1119  N619MT   \n",
       "4  Greensboro,\\n\\t                           NC\\n...      E-4100   N71RW   \n",
       "\n",
       "   Total Hours  Engine 1 Hours  Engine 2 Hours  Prop 1 Hours  Prop 2 Hours  \\\n",
       "0          NaN             NaN             NaN           NaN           NaN   \n",
       "1       1740.0          1740.0             NaN        1740.0           NaN   \n",
       "2          NaN             NaN             NaN           NaN           NaN   \n",
       "3          NaN             NaN             NaN           NaN           NaN   \n",
       "4          NaN             NaN             NaN           NaN           NaN   \n",
       "\n",
       "   Total Seats Flight Rules National Origin  \n",
       "0          NaN          NaN   United States  \n",
       "1          NaN          NaN   United States  \n",
       "2          NaN          NaN   United States  \n",
       "3          5.0          IFR   United States  \n",
       "4          6.0          NaN   United States  "
      ]
     },
     "execution_count": 51,
     "metadata": {},
     "output_type": "execute_result"
    }
   ],
   "source": [
    "df.head()"
   ]
  },
  {
   "cell_type": "markdown",
   "metadata": {},
   "source": [
    "## Exploratory Data Analysis"
   ]
  },
  {
   "cell_type": "code",
   "execution_count": 52,
   "metadata": {},
   "outputs": [],
   "source": [
    "df_cat = df[['Condition', 'Currency', 'Category', 'Make', 'Model', 'Location', 'S/N', 'REG', 'National Origin']]\n",
    "df_num = df[['Price', 'Year', 'Total Seats', 'Total Hours','Engine 1 Hours', 'Prop 1 Hours']]"
   ]
  },
  {
   "cell_type": "code",
   "execution_count": 53,
   "metadata": {},
   "outputs": [],
   "source": [
    "USA = df['Location'].str.contains('USA')\n",
    "CANADA = df['Location'].str.contains('CAN')\n",
    "BELGIUM = df['Location'].str.contains('BEL')\n",
    "FRANCE = df['Location'].str.contains('FRA')\n",
    "KENYA = df['Location'].str.contains('KEN')\n",
    "POLAND = df['Location'].str.contains('POL')\n",
    "NIGERIA = df['Location'].str.contains('NGA')\n",
    "SERBIA = df['Location'].str.contains('SRB')\n",
    "SOUTH_AFRICA = df['Location'].str.contains('ZAF')\n",
    "MEXICO = df['Location'].str.contains('MEX')\n",
    "SWISS = df['Location'].str.contains('CHE')\n",
    "EUR = df['Location'].str.contains('Europe')\n",
    "NOR = df['Location'].str.contains('North America')\n",
    "NORA = df['Location'].str.contains('North America + Canada')"
   ]
  },
  {
   "cell_type": "code",
   "execution_count": 54,
   "metadata": {},
   "outputs": [],
   "source": [
    "df['Location'] = np.where(USA, 'USA',np.where(CANADA, 'CAN', np.where(BELGIUM, 'BEL', np.where(FRANCE, 'FRA', np.where(KENYA, 'KEN', np.where(MEXICO, 'MEX', np.where(POLAND, 'POL', np.where(NIGERIA, 'NGA',np.where(SERBIA, 'SRB', np.where(SOUTH_AFRICA, 'ZAF',np.where(EUR, 'Europe',np.where(NOR, 'North America',np.where(NORA, 'North America + Canada', df['Location'].str.replace('-', ' '))))))))))))))"
   ]
  },
  {
   "cell_type": "code",
   "execution_count": 55,
   "metadata": {},
   "outputs": [
    {
     "name": "stdout",
     "output_type": "stream",
     "text": [
      "graph for Condition: total = 3\n"
     ]
    },
    {
     "data": {
      "image/png": "[encoded data removed]",
      "text/plain": [
       "<Figure size 936x360 with 1 Axes>"
      ]
     },
     "metadata": {
      "needs_background": "light"
     },
     "output_type": "display_data"
    },
    {
     "name": "stdout",
     "output_type": "stream",
     "text": [
      "graph for Currency: total = 5\n"
     ]
    },
    {
     "data": {
      "image/png": "[encoded data removed]",
      "text/plain": [
       "<Figure size 936x360 with 1 Axes>"
      ]
     },
     "metadata": {
      "needs_background": "light"
     },
     "output_type": "display_data"
    },
    {
     "name": "stdout",
     "output_type": "stream",
     "text": [
      "graph for Category: total = 13\n"
     ]
    },
    {
     "data": {
      "image/png": "[encoded data removed]",
      "text/plain": [
       "<Figure size 936x360 with 1 Axes>"
      ]
     },
     "metadata": {
      "needs_background": "light"
     },
     "output_type": "display_data"
    },
    {
     "name": "stdout",
     "output_type": "stream",
     "text": [
      "graph for Make: total = 187\n"
     ]
    },
    {
     "data": {
      "image/png": "[encoded data removed]",
      "text/plain": [
       "<Figure size 936x360 with 1 Axes>"
      ]
     },
     "metadata": {
      "needs_background": "light"
     },
     "output_type": "display_data"
    },
    {
     "name": "stdout",
     "output_type": "stream",
     "text": [
      "graph for Model: total = 1020\n"
     ]
    },
    {
     "data": {
      "image/png": "[encoded data removed]",
      "text/plain": [
       "<Figure size 936x360 with 1 Axes>"
      ]
     },
     "metadata": {
      "needs_background": "light"
     },
     "output_type": "display_data"
    },
    {
     "name": "stdout",
     "output_type": "stream",
     "text": [
      "graph for Location: total = 1007\n"
     ]
    },
    {
     "name": "stderr",
     "output_type": "stream",
     "text": [
      "C:\\Users\\endim\\anaconda3\\lib\\site-packages\\matplotlib\\backends\\backend_agg.py:214: RuntimeWarning: Glyph 9 missing from current font.\n",
      "  font.set_text(s, 0.0, flags=flags)\n",
      "C:\\Users\\endim\\anaconda3\\lib\\site-packages\\matplotlib\\backends\\backend_agg.py:183: RuntimeWarning: Glyph 9 missing from current font.\n",
      "  font.set_text(s, 0, flags=flags)\n"
     ]
    },
    {
     "data": {
      "image/png": "[encoded data removed]",
      "text/plain": [
       "<Figure size 936x360 with 1 Axes>"
      ]
     },
     "metadata": {
      "needs_background": "light"
     },
     "output_type": "display_data"
    },
    {
     "name": "stdout",
     "output_type": "stream",
     "text": [
      "graph for S/N: total = 1824\n"
     ]
    },
    {
     "name": "stderr",
     "output_type": "stream",
     "text": [
      "C:\\Users\\endim\\anaconda3\\lib\\site-packages\\matplotlib\\backends\\backend_agg.py:214: RuntimeWarning: Glyph 144 missing from current font.\n",
      "  font.set_text(s, 0.0, flags=flags)\n",
      "C:\\Users\\endim\\anaconda3\\lib\\site-packages\\matplotlib\\backends\\backend_agg.py:183: RuntimeWarning: Glyph 144 missing from current font.\n",
      "  font.set_text(s, 0, flags=flags)\n"
     ]
    },
    {
     "data": {
      "image/png": "[encoded data removed]",
      "text/plain": [
       "<Figure size 936x360 with 1 Axes>"
      ]
     },
     "metadata": {
      "needs_background": "light"
     },
     "output_type": "display_data"
    },
    {
     "name": "stdout",
     "output_type": "stream",
     "text": [
      "graph for REG: total = 2029\n"
     ]
    },
    {
     "data": {
      "image/png": "[encoded data removed]",
      "text/plain": [
       "<Figure size 936x360 with 1 Axes>"
      ]
     },
     "metadata": {
      "needs_background": "light"
     },
     "output_type": "display_data"
    },
    {
     "name": "stdout",
     "output_type": "stream",
     "text": [
      "graph for National Origin: total = 26\n"
     ]
    },
    {
     "data": {
      "image/png": "[encoded data removed]",
      "text/plain": [
       "<Figure size 936x360 with 1 Axes>"
      ]
     },
     "metadata": {
      "needs_background": "light"
     },
     "output_type": "display_data"
    }
   ],
   "source": [
    "for i in df_cat.columns:\n",
    "    cat_num = df_cat[i].value_counts()\n",
    "    print('graph for %s: total = %d' % (i,len(cat_num)))\n",
    "    plt.figure(figsize=(13, 5))\n",
    "    chart = sns.barplot(x=cat_num.index, y=cat_num)\n",
    "    chart.set_xticklabels(chart.get_xticklabels(), rotation=90)\n",
    "    plt.show()"
   ]
  },
  {
   "cell_type": "markdown",
   "metadata": {},
   "source": [
    "## Note:\n",
    "- Kolom S/N adalah serial number\n",
    "- Kolom REG adalah Tail Number"
   ]
  },
  {
   "cell_type": "code",
   "execution_count": 56,
   "metadata": {},
   "outputs": [
    {
     "data": {
      "text/plain": [
       "CESSNA                 567\n",
       "PIPER AIRCRAFT         374\n",
       "BEECHCRAFT             275\n",
       "CIRRUS                 186\n",
       "ROBINSON HELICOPTER    115\n",
       "                      ... \n",
       "FOUGA                    1\n",
       "DAKOTA CUB AIRCRAFT      1\n",
       "ALLIANCE                 1\n",
       "ACRO SPORT               1\n",
       "Slingsby Aviation        1\n",
       "Name: Make, Length: 187, dtype: int64"
      ]
     },
     "execution_count": 56,
     "metadata": {},
     "output_type": "execute_result"
    }
   ],
   "source": [
    "df['Make'].value_counts()"
   ]
  },
  {
   "cell_type": "code",
   "execution_count": 57,
   "metadata": {},
   "outputs": [
    {
     "data": {
      "text/plain": [
       "A36 BONANZA 36       22\n",
       "ARROW                22\n",
       "R66                  19\n",
       "SR22-G3 TURBO GTS    18\n",
       "340A                 18\n",
       "                     ..\n",
       "TB-21 Trinidad        1\n",
       "150K                  1\n",
       "CITATION III          1\n",
       "S-2C                  1\n",
       "Warrior II            1\n",
       "Name: Model, Length: 1020, dtype: int64"
      ]
     },
     "execution_count": 57,
     "metadata": {},
     "output_type": "execute_result"
    }
   ],
   "source": [
    "df['Model'].value_counts()"
   ]
  },
  {
   "cell_type": "code",
   "execution_count": 58,
   "metadata": {},
   "outputs": [
    {
     "data": {
      "text/plain": [
       "Not Listed    417\n",
       "-             128\n",
       "TBD            10\n",
       "1               4\n",
       "36              4\n",
       "             ... \n",
       "51204           1\n",
       "32R-802904      1\n",
       "33938           1\n",
       "44-75009        1\n",
       "11194           1\n",
       "Name: S/N, Length: 1824, dtype: int64"
      ]
     },
     "execution_count": 58,
     "metadata": {},
     "output_type": "execute_result"
    }
   ],
   "source": [
    "df['S/N'].value_counts()"
   ]
  },
  {
   "cell_type": "code",
   "execution_count": 59,
   "metadata": {},
   "outputs": [
    {
     "data": {
      "text/plain": [
       "USA                                                                                    1641\n",
       "North America                                                                           333\n",
       "Europe                                                                                  264\n",
       "CAN                                                                                     112\n",
       "Africa, South Africa                                                                     53\n",
       "                                                                                       ... \n",
       "KCHD                                                                                      1\n",
       "Durango                                                                                   1\n",
       "Ciudad de la Costa\\n\\t                           \\n\\t                           URY       1\n",
       "Corvallis                                                                                 1\n",
       "Amsterdam\\n\\t                           \\n\\t                           NLD                1\n",
       "Name: Location, Length: 69, dtype: int64"
      ]
     },
     "execution_count": 59,
     "metadata": {},
     "output_type": "execute_result"
    }
   ],
   "source": [
    "df['Location'].value_counts()"
   ]
  },
  {
   "cell_type": "code",
   "execution_count": 60,
   "metadata": {},
   "outputs": [
    {
     "data": {
      "text/plain": [
       "CESSNA                 567\n",
       "PIPER AIRCRAFT         374\n",
       "BEECHCRAFT             275\n",
       "CIRRUS                 186\n",
       "ROBINSON HELICOPTER    115\n",
       "                      ... \n",
       "FOUGA                    1\n",
       "DAKOTA CUB AIRCRAFT      1\n",
       "ALLIANCE                 1\n",
       "ACRO SPORT               1\n",
       "Slingsby Aviation        1\n",
       "Name: Make, Length: 187, dtype: int64"
      ]
     },
     "execution_count": 60,
     "metadata": {},
     "output_type": "execute_result"
    }
   ],
   "source": [
    "df['Make'].value_counts()"
   ]
  },
  {
   "cell_type": "code",
   "execution_count": 61,
   "metadata": {},
   "outputs": [
    {
     "data": {
      "text/html": [
       "<div>\n",
       "<style scoped>\n",
       "    .dataframe tbody tr th:only-of-type {\n",
       "        vertical-align: middle;\n",
       "    }\n",
       "\n",
       "    .dataframe tbody tr th {\n",
       "        vertical-align: top;\n",
       "    }\n",
       "\n",
       "    .dataframe thead th {\n",
       "        text-align: right;\n",
       "    }\n",
       "</style>\n",
       "<table border=\"1\" class=\"dataframe\">\n",
       "  <thead>\n",
       "    <tr style=\"text-align: right;\">\n",
       "      <th></th>\n",
       "      <th>Condition</th>\n",
       "      <th>Price</th>\n",
       "      <th>Currency</th>\n",
       "      <th>Category</th>\n",
       "      <th>Year</th>\n",
       "      <th>Make</th>\n",
       "      <th>Model</th>\n",
       "      <th>Location</th>\n",
       "      <th>S/N</th>\n",
       "      <th>REG</th>\n",
       "      <th>Total Hours</th>\n",
       "      <th>Engine 1 Hours</th>\n",
       "      <th>Engine 2 Hours</th>\n",
       "      <th>Prop 1 Hours</th>\n",
       "      <th>Prop 2 Hours</th>\n",
       "      <th>Total Seats</th>\n",
       "      <th>Flight Rules</th>\n",
       "      <th>National Origin</th>\n",
       "    </tr>\n",
       "  </thead>\n",
       "  <tbody>\n",
       "    <tr>\n",
       "      <th>0</th>\n",
       "      <td>New</td>\n",
       "      <td>387000</td>\n",
       "      <td>USD</td>\n",
       "      <td>Piston Helicopters</td>\n",
       "      <td>2020.0</td>\n",
       "      <td>ROBINSON HELICOPTER</td>\n",
       "      <td>R44 RAVEN I</td>\n",
       "      <td>USA</td>\n",
       "      <td>Not Listed</td>\n",
       "      <td>TBD</td>\n",
       "      <td>NaN</td>\n",
       "      <td>NaN</td>\n",
       "      <td>NaN</td>\n",
       "      <td>NaN</td>\n",
       "      <td>NaN</td>\n",
       "      <td>NaN</td>\n",
       "      <td>NaN</td>\n",
       "      <td>United States</td>\n",
       "    </tr>\n",
       "    <tr>\n",
       "      <th>1</th>\n",
       "      <td>Used</td>\n",
       "      <td>294900</td>\n",
       "      <td>USD</td>\n",
       "      <td>Single Engine Piston</td>\n",
       "      <td>2011.0</td>\n",
       "      <td>CIRRUS</td>\n",
       "      <td>SR20-G3</td>\n",
       "      <td>USA</td>\n",
       "      <td>2081</td>\n",
       "      <td>N187PH</td>\n",
       "      <td>1740.0</td>\n",
       "      <td>1740.0</td>\n",
       "      <td>NaN</td>\n",
       "      <td>1740.0</td>\n",
       "      <td>NaN</td>\n",
       "      <td>NaN</td>\n",
       "      <td>NaN</td>\n",
       "      <td>United States</td>\n",
       "    </tr>\n",
       "    <tr>\n",
       "      <th>2</th>\n",
       "      <td>Used</td>\n",
       "      <td>184900</td>\n",
       "      <td>USD</td>\n",
       "      <td>Single Engine Piston</td>\n",
       "      <td>2011.0</td>\n",
       "      <td>CUBCRAFTERS</td>\n",
       "      <td>CC11-160 CARBON CUB SS</td>\n",
       "      <td>USA</td>\n",
       "      <td>CC11-00168</td>\n",
       "      <td>N160TJ</td>\n",
       "      <td>NaN</td>\n",
       "      <td>NaN</td>\n",
       "      <td>NaN</td>\n",
       "      <td>NaN</td>\n",
       "      <td>NaN</td>\n",
       "      <td>NaN</td>\n",
       "      <td>NaN</td>\n",
       "      <td>United States</td>\n",
       "    </tr>\n",
       "    <tr>\n",
       "      <th>3</th>\n",
       "      <td>Used</td>\n",
       "      <td>609000</td>\n",
       "      <td>USD</td>\n",
       "      <td>Single Engine Piston</td>\n",
       "      <td>2015.0</td>\n",
       "      <td>CIRRUS</td>\n",
       "      <td>SR22-G5 TURBO</td>\n",
       "      <td>USA</td>\n",
       "      <td>1119</td>\n",
       "      <td>N619MT</td>\n",
       "      <td>NaN</td>\n",
       "      <td>NaN</td>\n",
       "      <td>NaN</td>\n",
       "      <td>NaN</td>\n",
       "      <td>NaN</td>\n",
       "      <td>5.0</td>\n",
       "      <td>IFR</td>\n",
       "      <td>United States</td>\n",
       "    </tr>\n",
       "    <tr>\n",
       "      <th>4</th>\n",
       "      <td>Used</td>\n",
       "      <td>699000</td>\n",
       "      <td>USD</td>\n",
       "      <td>Single Engine Piston</td>\n",
       "      <td>2016.0</td>\n",
       "      <td>BEECHCRAFT</td>\n",
       "      <td>G36 BONANZA</td>\n",
       "      <td>USA</td>\n",
       "      <td>E-4100</td>\n",
       "      <td>N71RW</td>\n",
       "      <td>NaN</td>\n",
       "      <td>NaN</td>\n",
       "      <td>NaN</td>\n",
       "      <td>NaN</td>\n",
       "      <td>NaN</td>\n",
       "      <td>6.0</td>\n",
       "      <td>NaN</td>\n",
       "      <td>United States</td>\n",
       "    </tr>\n",
       "  </tbody>\n",
       "</table>\n",
       "</div>"
      ],
      "text/plain": [
       "  Condition   Price Currency              Category    Year  \\\n",
       "0       New  387000      USD    Piston Helicopters  2020.0   \n",
       "1      Used  294900      USD  Single Engine Piston  2011.0   \n",
       "2      Used  184900      USD  Single Engine Piston  2011.0   \n",
       "3      Used  609000      USD  Single Engine Piston  2015.0   \n",
       "4      Used  699000      USD  Single Engine Piston  2016.0   \n",
       "\n",
       "                  Make                   Model Location         S/N     REG  \\\n",
       "0  ROBINSON HELICOPTER             R44 RAVEN I      USA  Not Listed     TBD   \n",
       "1               CIRRUS                 SR20-G3      USA        2081  N187PH   \n",
       "2          CUBCRAFTERS  CC11-160 CARBON CUB SS      USA  CC11-00168  N160TJ   \n",
       "3               CIRRUS           SR22-G5 TURBO      USA        1119  N619MT   \n",
       "4           BEECHCRAFT             G36 BONANZA      USA      E-4100   N71RW   \n",
       "\n",
       "   Total Hours  Engine 1 Hours  Engine 2 Hours  Prop 1 Hours  Prop 2 Hours  \\\n",
       "0          NaN             NaN             NaN           NaN           NaN   \n",
       "1       1740.0          1740.0             NaN        1740.0           NaN   \n",
       "2          NaN             NaN             NaN           NaN           NaN   \n",
       "3          NaN             NaN             NaN           NaN           NaN   \n",
       "4          NaN             NaN             NaN           NaN           NaN   \n",
       "\n",
       "   Total Seats Flight Rules National Origin  \n",
       "0          NaN          NaN   United States  \n",
       "1          NaN          NaN   United States  \n",
       "2          NaN          NaN   United States  \n",
       "3          5.0          IFR   United States  \n",
       "4          6.0          NaN   United States  "
      ]
     },
     "execution_count": 61,
     "metadata": {},
     "output_type": "execute_result"
    }
   ],
   "source": [
    "df.head()"
   ]
  },
  {
   "cell_type": "code",
   "execution_count": 62,
   "metadata": {},
   "outputs": [
    {
     "data": {
      "image/png": "[encoded data removed]",
      "text/plain": [
       "<Figure size 1440x1440 with 6 Axes>"
      ]
     },
     "metadata": {
      "needs_background": "light"
     },
     "output_type": "display_data"
    }
   ],
   "source": [
    "plt.figure(figsize =(20, 20 ))\n",
    "x = 1 \n",
    "\n",
    "for column in df_num.columns:\n",
    "    plt.subplot(4,5,x)\n",
    "    sns.boxplot(df_num[column])\n",
    "    x+=1\n",
    "plt.tight_layout\n",
    "plt.show()"
   ]
  },
  {
   "cell_type": "markdown",
   "metadata": {},
   "source": [
    "## Data Outliers kita biarkan karena tidak mengganggu"
   ]
  },
  {
   "cell_type": "code",
   "execution_count": 63,
   "metadata": {},
   "outputs": [],
   "source": [
    "## Filling data"
   ]
  },
  {
   "cell_type": "code",
   "execution_count": 64,
   "metadata": {},
   "outputs": [
    {
     "data": {
      "text/plain": [
       "Condition           769\n",
       "Price                 0\n",
       "Currency            552\n",
       "Category              0\n",
       "Year                 79\n",
       "Make                  0\n",
       "Model                 0\n",
       "Location              0\n",
       "S/N                   3\n",
       "REG                   2\n",
       "Total Hours         773\n",
       "Engine 1 Hours     2000\n",
       "Engine 2 Hours     2353\n",
       "Prop 1 Hours       2290\n",
       "Prop 2 Hours       2478\n",
       "Total Seats        1378\n",
       "Flight Rules       1662\n",
       "National Origin       8\n",
       "dtype: int64"
      ]
     },
     "execution_count": 64,
     "metadata": {},
     "output_type": "execute_result"
    }
   ],
   "source": [
    "df.isna().sum()"
   ]
  },
  {
   "cell_type": "code",
   "execution_count": 65,
   "metadata": {},
   "outputs": [],
   "source": [
    "# df['Condition'] = df['Condition'].replace(0)"
   ]
  },
  {
   "cell_type": "code",
   "execution_count": 66,
   "metadata": {},
   "outputs": [],
   "source": [
    "# df['Currency'] = df['Currency'].fillna(0)"
   ]
  },
  {
   "cell_type": "code",
   "execution_count": 67,
   "metadata": {},
   "outputs": [],
   "source": [
    "# df['Year'] = df['Year'].fillna(method='ffill')"
   ]
  },
  {
   "cell_type": "code",
   "execution_count": 68,
   "metadata": {},
   "outputs": [],
   "source": [
    "# df['Total Hours'] = df['Total Hours'].fillna(method='ffill')"
   ]
  },
  {
   "cell_type": "code",
   "execution_count": 69,
   "metadata": {},
   "outputs": [],
   "source": [
    "# df['Engine 2 Hours'] = df['Engine 2 Hours'].fillna(method='ffill')"
   ]
  },
  {
   "cell_type": "code",
   "execution_count": 70,
   "metadata": {},
   "outputs": [],
   "source": [
    "# df['Total Seats'] = df['Total Seats'].fillna(method='ffill')"
   ]
  },
  {
   "cell_type": "code",
   "execution_count": 71,
   "metadata": {},
   "outputs": [],
   "source": [
    "# df['Prop 1 Hours'] = df['Prop 1 Hours'].fillna(method='ffill')"
   ]
  },
  {
   "cell_type": "code",
   "execution_count": 72,
   "metadata": {},
   "outputs": [],
   "source": [
    "# df['Prop 2 Hours'] = df['Prop 2 Hours'].fillna(method='ffill')"
   ]
  },
  {
   "cell_type": "code",
   "execution_count": 73,
   "metadata": {},
   "outputs": [],
   "source": [
    "# df['Flight Rules'] = df['Flight Rules'].fillna(method='ffill')"
   ]
  },
  {
   "cell_type": "code",
   "execution_count": 74,
   "metadata": {},
   "outputs": [],
   "source": [
    "# df['National Origin'] = df['National Origin'].fillna(method='ffill')"
   ]
  },
  {
   "cell_type": "code",
   "execution_count": 75,
   "metadata": {},
   "outputs": [],
   "source": [
    "# df.dropna(inplace=True)"
   ]
  },
  {
   "cell_type": "code",
   "execution_count": 76,
   "metadata": {},
   "outputs": [
    {
     "data": {
      "text/html": [
       "<div>\n",
       "<style scoped>\n",
       "    .dataframe tbody tr th:only-of-type {\n",
       "        vertical-align: middle;\n",
       "    }\n",
       "\n",
       "    .dataframe tbody tr th {\n",
       "        vertical-align: top;\n",
       "    }\n",
       "\n",
       "    .dataframe thead th {\n",
       "        text-align: right;\n",
       "    }\n",
       "</style>\n",
       "<table border=\"1\" class=\"dataframe\">\n",
       "  <thead>\n",
       "    <tr style=\"text-align: right;\">\n",
       "      <th></th>\n",
       "      <th>Condition</th>\n",
       "      <th>Price</th>\n",
       "      <th>Currency</th>\n",
       "      <th>Category</th>\n",
       "      <th>Year</th>\n",
       "      <th>Make</th>\n",
       "      <th>Model</th>\n",
       "      <th>Location</th>\n",
       "      <th>S/N</th>\n",
       "      <th>REG</th>\n",
       "      <th>Total Hours</th>\n",
       "      <th>Engine 1 Hours</th>\n",
       "      <th>Engine 2 Hours</th>\n",
       "      <th>Prop 1 Hours</th>\n",
       "      <th>Prop 2 Hours</th>\n",
       "      <th>Total Seats</th>\n",
       "      <th>Flight Rules</th>\n",
       "      <th>National Origin</th>\n",
       "    </tr>\n",
       "  </thead>\n",
       "  <tbody>\n",
       "    <tr>\n",
       "      <th>0</th>\n",
       "      <td>New</td>\n",
       "      <td>387000</td>\n",
       "      <td>USD</td>\n",
       "      <td>Piston Helicopters</td>\n",
       "      <td>2020.0</td>\n",
       "      <td>ROBINSON HELICOPTER</td>\n",
       "      <td>R44 RAVEN I</td>\n",
       "      <td>USA</td>\n",
       "      <td>Not Listed</td>\n",
       "      <td>TBD</td>\n",
       "      <td>NaN</td>\n",
       "      <td>NaN</td>\n",
       "      <td>NaN</td>\n",
       "      <td>NaN</td>\n",
       "      <td>NaN</td>\n",
       "      <td>NaN</td>\n",
       "      <td>NaN</td>\n",
       "      <td>United States</td>\n",
       "    </tr>\n",
       "    <tr>\n",
       "      <th>1</th>\n",
       "      <td>Used</td>\n",
       "      <td>294900</td>\n",
       "      <td>USD</td>\n",
       "      <td>Single Engine Piston</td>\n",
       "      <td>2011.0</td>\n",
       "      <td>CIRRUS</td>\n",
       "      <td>SR20-G3</td>\n",
       "      <td>USA</td>\n",
       "      <td>2081</td>\n",
       "      <td>N187PH</td>\n",
       "      <td>1740.0</td>\n",
       "      <td>1740.0</td>\n",
       "      <td>NaN</td>\n",
       "      <td>1740.0</td>\n",
       "      <td>NaN</td>\n",
       "      <td>NaN</td>\n",
       "      <td>NaN</td>\n",
       "      <td>United States</td>\n",
       "    </tr>\n",
       "    <tr>\n",
       "      <th>2</th>\n",
       "      <td>Used</td>\n",
       "      <td>184900</td>\n",
       "      <td>USD</td>\n",
       "      <td>Single Engine Piston</td>\n",
       "      <td>2011.0</td>\n",
       "      <td>CUBCRAFTERS</td>\n",
       "      <td>CC11-160 CARBON CUB SS</td>\n",
       "      <td>USA</td>\n",
       "      <td>CC11-00168</td>\n",
       "      <td>N160TJ</td>\n",
       "      <td>NaN</td>\n",
       "      <td>NaN</td>\n",
       "      <td>NaN</td>\n",
       "      <td>NaN</td>\n",
       "      <td>NaN</td>\n",
       "      <td>NaN</td>\n",
       "      <td>NaN</td>\n",
       "      <td>United States</td>\n",
       "    </tr>\n",
       "    <tr>\n",
       "      <th>3</th>\n",
       "      <td>Used</td>\n",
       "      <td>609000</td>\n",
       "      <td>USD</td>\n",
       "      <td>Single Engine Piston</td>\n",
       "      <td>2015.0</td>\n",
       "      <td>CIRRUS</td>\n",
       "      <td>SR22-G5 TURBO</td>\n",
       "      <td>USA</td>\n",
       "      <td>1119</td>\n",
       "      <td>N619MT</td>\n",
       "      <td>NaN</td>\n",
       "      <td>NaN</td>\n",
       "      <td>NaN</td>\n",
       "      <td>NaN</td>\n",
       "      <td>NaN</td>\n",
       "      <td>5.0</td>\n",
       "      <td>IFR</td>\n",
       "      <td>United States</td>\n",
       "    </tr>\n",
       "    <tr>\n",
       "      <th>4</th>\n",
       "      <td>Used</td>\n",
       "      <td>699000</td>\n",
       "      <td>USD</td>\n",
       "      <td>Single Engine Piston</td>\n",
       "      <td>2016.0</td>\n",
       "      <td>BEECHCRAFT</td>\n",
       "      <td>G36 BONANZA</td>\n",
       "      <td>USA</td>\n",
       "      <td>E-4100</td>\n",
       "      <td>N71RW</td>\n",
       "      <td>NaN</td>\n",
       "      <td>NaN</td>\n",
       "      <td>NaN</td>\n",
       "      <td>NaN</td>\n",
       "      <td>NaN</td>\n",
       "      <td>6.0</td>\n",
       "      <td>NaN</td>\n",
       "      <td>United States</td>\n",
       "    </tr>\n",
       "  </tbody>\n",
       "</table>\n",
       "</div>"
      ],
      "text/plain": [
       "  Condition   Price Currency              Category    Year  \\\n",
       "0       New  387000      USD    Piston Helicopters  2020.0   \n",
       "1      Used  294900      USD  Single Engine Piston  2011.0   \n",
       "2      Used  184900      USD  Single Engine Piston  2011.0   \n",
       "3      Used  609000      USD  Single Engine Piston  2015.0   \n",
       "4      Used  699000      USD  Single Engine Piston  2016.0   \n",
       "\n",
       "                  Make                   Model Location         S/N     REG  \\\n",
       "0  ROBINSON HELICOPTER             R44 RAVEN I      USA  Not Listed     TBD   \n",
       "1               CIRRUS                 SR20-G3      USA        2081  N187PH   \n",
       "2          CUBCRAFTERS  CC11-160 CARBON CUB SS      USA  CC11-00168  N160TJ   \n",
       "3               CIRRUS           SR22-G5 TURBO      USA        1119  N619MT   \n",
       "4           BEECHCRAFT             G36 BONANZA      USA      E-4100   N71RW   \n",
       "\n",
       "   Total Hours  Engine 1 Hours  Engine 2 Hours  Prop 1 Hours  Prop 2 Hours  \\\n",
       "0          NaN             NaN             NaN           NaN           NaN   \n",
       "1       1740.0          1740.0             NaN        1740.0           NaN   \n",
       "2          NaN             NaN             NaN           NaN           NaN   \n",
       "3          NaN             NaN             NaN           NaN           NaN   \n",
       "4          NaN             NaN             NaN           NaN           NaN   \n",
       "\n",
       "   Total Seats Flight Rules National Origin  \n",
       "0          NaN          NaN   United States  \n",
       "1          NaN          NaN   United States  \n",
       "2          NaN          NaN   United States  \n",
       "3          5.0          IFR   United States  \n",
       "4          6.0          NaN   United States  "
      ]
     },
     "execution_count": 76,
     "metadata": {},
     "output_type": "execute_result"
    }
   ],
   "source": [
    "df.head()"
   ]
  },
  {
   "cell_type": "code",
   "execution_count": 77,
   "metadata": {},
   "outputs": [],
   "source": [
    "## Encode"
   ]
  },
  {
   "cell_type": "code",
   "execution_count": 78,
   "metadata": {},
   "outputs": [],
   "source": [
    "from sklearn.preprocessing import OneHotEncoder"
   ]
  },
  {
   "cell_type": "code",
   "execution_count": 79,
   "metadata": {},
   "outputs": [],
   "source": [
    "compression_opts = dict(method='zip',\n",
    "                        archive_name='out.csv')  \n",
    "df.to_csv('out.zip', index=False,\n",
    "          compression=compression_opts)"
   ]
  },
  {
   "cell_type": "code",
   "execution_count": 80,
   "metadata": {},
   "outputs": [],
   "source": [
    "encoding = OneHotEncoder()"
   ]
  },
  {
   "cell_type": "code",
   "execution_count": 81,
   "metadata": {},
   "outputs": [
    {
     "data": {
      "text/html": [
       "<div>\n",
       "<style scoped>\n",
       "    .dataframe tbody tr th:only-of-type {\n",
       "        vertical-align: middle;\n",
       "    }\n",
       "\n",
       "    .dataframe tbody tr th {\n",
       "        vertical-align: top;\n",
       "    }\n",
       "\n",
       "    .dataframe thead th {\n",
       "        text-align: right;\n",
       "    }\n",
       "</style>\n",
       "<table border=\"1\" class=\"dataframe\">\n",
       "  <thead>\n",
       "    <tr style=\"text-align: right;\">\n",
       "      <th></th>\n",
       "      <th>Price</th>\n",
       "      <th>Currency</th>\n",
       "      <th>Category</th>\n",
       "      <th>Year</th>\n",
       "      <th>Make</th>\n",
       "      <th>Model</th>\n",
       "      <th>Location</th>\n",
       "      <th>S/N</th>\n",
       "      <th>REG</th>\n",
       "      <th>Total Hours</th>\n",
       "      <th>Engine 1 Hours</th>\n",
       "      <th>Engine 2 Hours</th>\n",
       "      <th>Prop 1 Hours</th>\n",
       "      <th>Prop 2 Hours</th>\n",
       "      <th>Total Seats</th>\n",
       "      <th>Flight Rules</th>\n",
       "      <th>National Origin</th>\n",
       "      <th>Condition_New</th>\n",
       "      <th>Condition_Project</th>\n",
       "      <th>Condition_Used</th>\n",
       "    </tr>\n",
       "  </thead>\n",
       "  <tbody>\n",
       "    <tr>\n",
       "      <th>0</th>\n",
       "      <td>387000</td>\n",
       "      <td>USD</td>\n",
       "      <td>Piston Helicopters</td>\n",
       "      <td>2020.0</td>\n",
       "      <td>ROBINSON HELICOPTER</td>\n",
       "      <td>R44 RAVEN I</td>\n",
       "      <td>USA</td>\n",
       "      <td>Not Listed</td>\n",
       "      <td>TBD</td>\n",
       "      <td>NaN</td>\n",
       "      <td>NaN</td>\n",
       "      <td>NaN</td>\n",
       "      <td>NaN</td>\n",
       "      <td>NaN</td>\n",
       "      <td>NaN</td>\n",
       "      <td>NaN</td>\n",
       "      <td>United States</td>\n",
       "      <td>1</td>\n",
       "      <td>0</td>\n",
       "      <td>0</td>\n",
       "    </tr>\n",
       "    <tr>\n",
       "      <th>1</th>\n",
       "      <td>294900</td>\n",
       "      <td>USD</td>\n",
       "      <td>Single Engine Piston</td>\n",
       "      <td>2011.0</td>\n",
       "      <td>CIRRUS</td>\n",
       "      <td>SR20-G3</td>\n",
       "      <td>USA</td>\n",
       "      <td>2081</td>\n",
       "      <td>N187PH</td>\n",
       "      <td>1740.0</td>\n",
       "      <td>1740.0</td>\n",
       "      <td>NaN</td>\n",
       "      <td>1740.0</td>\n",
       "      <td>NaN</td>\n",
       "      <td>NaN</td>\n",
       "      <td>NaN</td>\n",
       "      <td>United States</td>\n",
       "      <td>0</td>\n",
       "      <td>0</td>\n",
       "      <td>1</td>\n",
       "    </tr>\n",
       "    <tr>\n",
       "      <th>2</th>\n",
       "      <td>184900</td>\n",
       "      <td>USD</td>\n",
       "      <td>Single Engine Piston</td>\n",
       "      <td>2011.0</td>\n",
       "      <td>CUBCRAFTERS</td>\n",
       "      <td>CC11-160 CARBON CUB SS</td>\n",
       "      <td>USA</td>\n",
       "      <td>CC11-00168</td>\n",
       "      <td>N160TJ</td>\n",
       "      <td>NaN</td>\n",
       "      <td>NaN</td>\n",
       "      <td>NaN</td>\n",
       "      <td>NaN</td>\n",
       "      <td>NaN</td>\n",
       "      <td>NaN</td>\n",
       "      <td>NaN</td>\n",
       "      <td>United States</td>\n",
       "      <td>0</td>\n",
       "      <td>0</td>\n",
       "      <td>1</td>\n",
       "    </tr>\n",
       "    <tr>\n",
       "      <th>3</th>\n",
       "      <td>609000</td>\n",
       "      <td>USD</td>\n",
       "      <td>Single Engine Piston</td>\n",
       "      <td>2015.0</td>\n",
       "      <td>CIRRUS</td>\n",
       "      <td>SR22-G5 TURBO</td>\n",
       "      <td>USA</td>\n",
       "      <td>1119</td>\n",
       "      <td>N619MT</td>\n",
       "      <td>NaN</td>\n",
       "      <td>NaN</td>\n",
       "      <td>NaN</td>\n",
       "      <td>NaN</td>\n",
       "      <td>NaN</td>\n",
       "      <td>5.0</td>\n",
       "      <td>IFR</td>\n",
       "      <td>United States</td>\n",
       "      <td>0</td>\n",
       "      <td>0</td>\n",
       "      <td>1</td>\n",
       "    </tr>\n",
       "    <tr>\n",
       "      <th>4</th>\n",
       "      <td>699000</td>\n",
       "      <td>USD</td>\n",
       "      <td>Single Engine Piston</td>\n",
       "      <td>2016.0</td>\n",
       "      <td>BEECHCRAFT</td>\n",
       "      <td>G36 BONANZA</td>\n",
       "      <td>USA</td>\n",
       "      <td>E-4100</td>\n",
       "      <td>N71RW</td>\n",
       "      <td>NaN</td>\n",
       "      <td>NaN</td>\n",
       "      <td>NaN</td>\n",
       "      <td>NaN</td>\n",
       "      <td>NaN</td>\n",
       "      <td>6.0</td>\n",
       "      <td>NaN</td>\n",
       "      <td>United States</td>\n",
       "      <td>0</td>\n",
       "      <td>0</td>\n",
       "      <td>1</td>\n",
       "    </tr>\n",
       "    <tr>\n",
       "      <th>...</th>\n",
       "      <td>...</td>\n",
       "      <td>...</td>\n",
       "      <td>...</td>\n",
       "      <td>...</td>\n",
       "      <td>...</td>\n",
       "      <td>...</td>\n",
       "      <td>...</td>\n",
       "      <td>...</td>\n",
       "      <td>...</td>\n",
       "      <td>...</td>\n",
       "      <td>...</td>\n",
       "      <td>...</td>\n",
       "      <td>...</td>\n",
       "      <td>...</td>\n",
       "      <td>...</td>\n",
       "      <td>...</td>\n",
       "      <td>...</td>\n",
       "      <td>...</td>\n",
       "      <td>...</td>\n",
       "      <td>...</td>\n",
       "    </tr>\n",
       "    <tr>\n",
       "      <th>2525</th>\n",
       "      <td>36000</td>\n",
       "      <td>GBP</td>\n",
       "      <td>Single Piston</td>\n",
       "      <td>1994.0</td>\n",
       "      <td>AVIONS PIERRE ROBIN</td>\n",
       "      <td>HR-200/120B</td>\n",
       "      <td>Europe</td>\n",
       "      <td>-</td>\n",
       "      <td>-</td>\n",
       "      <td>3600.0</td>\n",
       "      <td>NaN</td>\n",
       "      <td>NaN</td>\n",
       "      <td>NaN</td>\n",
       "      <td>NaN</td>\n",
       "      <td>NaN</td>\n",
       "      <td>NaN</td>\n",
       "      <td>France</td>\n",
       "      <td>0</td>\n",
       "      <td>0</td>\n",
       "      <td>0</td>\n",
       "    </tr>\n",
       "    <tr>\n",
       "      <th>2526</th>\n",
       "      <td>36000</td>\n",
       "      <td>GBP</td>\n",
       "      <td>Single Piston</td>\n",
       "      <td>1978.0</td>\n",
       "      <td>AVIONS PIERRE ROBIN</td>\n",
       "      <td>R.2160</td>\n",
       "      <td>Europe</td>\n",
       "      <td>-</td>\n",
       "      <td>-</td>\n",
       "      <td>5300.0</td>\n",
       "      <td>NaN</td>\n",
       "      <td>NaN</td>\n",
       "      <td>NaN</td>\n",
       "      <td>NaN</td>\n",
       "      <td>NaN</td>\n",
       "      <td>NaN</td>\n",
       "      <td>France</td>\n",
       "      <td>0</td>\n",
       "      <td>0</td>\n",
       "      <td>0</td>\n",
       "    </tr>\n",
       "    <tr>\n",
       "      <th>2527</th>\n",
       "      <td>36000</td>\n",
       "      <td>GBP</td>\n",
       "      <td>Single Piston</td>\n",
       "      <td>1965.0</td>\n",
       "      <td>CESSNA</td>\n",
       "      <td>172</td>\n",
       "      <td>Europe</td>\n",
       "      <td>-</td>\n",
       "      <td>-</td>\n",
       "      <td>6200.0</td>\n",
       "      <td>NaN</td>\n",
       "      <td>NaN</td>\n",
       "      <td>NaN</td>\n",
       "      <td>NaN</td>\n",
       "      <td>4.0</td>\n",
       "      <td>NaN</td>\n",
       "      <td>United States</td>\n",
       "      <td>0</td>\n",
       "      <td>0</td>\n",
       "      <td>0</td>\n",
       "    </tr>\n",
       "    <tr>\n",
       "      <th>2528</th>\n",
       "      <td>36500</td>\n",
       "      <td>EUR</td>\n",
       "      <td>Single Piston</td>\n",
       "      <td>NaN</td>\n",
       "      <td>CESSNA</td>\n",
       "      <td>150 FRA150L</td>\n",
       "      <td>Europe</td>\n",
       "      <td>-</td>\n",
       "      <td>N53TS</td>\n",
       "      <td>NaN</td>\n",
       "      <td>NaN</td>\n",
       "      <td>NaN</td>\n",
       "      <td>NaN</td>\n",
       "      <td>NaN</td>\n",
       "      <td>2.0</td>\n",
       "      <td>NaN</td>\n",
       "      <td>United States</td>\n",
       "      <td>0</td>\n",
       "      <td>0</td>\n",
       "      <td>0</td>\n",
       "    </tr>\n",
       "    <tr>\n",
       "      <th>2529</th>\n",
       "      <td>69000</td>\n",
       "      <td>GBP</td>\n",
       "      <td>Single Piston</td>\n",
       "      <td>NaN</td>\n",
       "      <td>AVIAT</td>\n",
       "      <td>Christen Eagle II</td>\n",
       "      <td>Europe</td>\n",
       "      <td>T-0001</td>\n",
       "      <td>G-IXII</td>\n",
       "      <td>1700.0</td>\n",
       "      <td>NaN</td>\n",
       "      <td>NaN</td>\n",
       "      <td>NaN</td>\n",
       "      <td>NaN</td>\n",
       "      <td>NaN</td>\n",
       "      <td>NaN</td>\n",
       "      <td>United States</td>\n",
       "      <td>0</td>\n",
       "      <td>0</td>\n",
       "      <td>0</td>\n",
       "    </tr>\n",
       "  </tbody>\n",
       "</table>\n",
       "<p>2530 rows × 20 columns</p>\n",
       "</div>"
      ],
      "text/plain": [
       "       Price Currency              Category    Year                 Make  \\\n",
       "0     387000      USD    Piston Helicopters  2020.0  ROBINSON HELICOPTER   \n",
       "1     294900      USD  Single Engine Piston  2011.0               CIRRUS   \n",
       "2     184900      USD  Single Engine Piston  2011.0          CUBCRAFTERS   \n",
       "3     609000      USD  Single Engine Piston  2015.0               CIRRUS   \n",
       "4     699000      USD  Single Engine Piston  2016.0           BEECHCRAFT   \n",
       "...      ...      ...                   ...     ...                  ...   \n",
       "2525   36000      GBP         Single Piston  1994.0  AVIONS PIERRE ROBIN   \n",
       "2526   36000      GBP         Single Piston  1978.0  AVIONS PIERRE ROBIN   \n",
       "2527   36000      GBP         Single Piston  1965.0               CESSNA   \n",
       "2528   36500      EUR         Single Piston     NaN               CESSNA   \n",
       "2529   69000      GBP         Single Piston     NaN                AVIAT   \n",
       "\n",
       "                       Model Location         S/N      REG  Total Hours  \\\n",
       "0                R44 RAVEN I      USA  Not Listed      TBD          NaN   \n",
       "1                    SR20-G3      USA        2081   N187PH       1740.0   \n",
       "2     CC11-160 CARBON CUB SS      USA  CC11-00168   N160TJ          NaN   \n",
       "3              SR22-G5 TURBO      USA        1119   N619MT          NaN   \n",
       "4                G36 BONANZA      USA      E-4100    N71RW          NaN   \n",
       "...                      ...      ...         ...      ...          ...   \n",
       "2525             HR-200/120B   Europe           -        -       3600.0   \n",
       "2526                  R.2160   Europe           -        -       5300.0   \n",
       "2527                     172   Europe           -        -       6200.0   \n",
       "2528             150 FRA150L   Europe           -   N53TS           NaN   \n",
       "2529       Christen Eagle II   Europe      T-0001   G-IXII       1700.0   \n",
       "\n",
       "      Engine 1 Hours  Engine 2 Hours  Prop 1 Hours  Prop 2 Hours  Total Seats  \\\n",
       "0                NaN             NaN           NaN           NaN          NaN   \n",
       "1             1740.0             NaN        1740.0           NaN          NaN   \n",
       "2                NaN             NaN           NaN           NaN          NaN   \n",
       "3                NaN             NaN           NaN           NaN          5.0   \n",
       "4                NaN             NaN           NaN           NaN          6.0   \n",
       "...              ...             ...           ...           ...          ...   \n",
       "2525             NaN             NaN           NaN           NaN          NaN   \n",
       "2526             NaN             NaN           NaN           NaN          NaN   \n",
       "2527             NaN             NaN           NaN           NaN          4.0   \n",
       "2528             NaN             NaN           NaN           NaN          2.0   \n",
       "2529             NaN             NaN           NaN           NaN          NaN   \n",
       "\n",
       "     Flight Rules National Origin  Condition_New  Condition_Project  \\\n",
       "0             NaN   United States              1                  0   \n",
       "1             NaN   United States              0                  0   \n",
       "2             NaN   United States              0                  0   \n",
       "3             IFR   United States              0                  0   \n",
       "4             NaN   United States              0                  0   \n",
       "...           ...             ...            ...                ...   \n",
       "2525          NaN          France              0                  0   \n",
       "2526          NaN          France              0                  0   \n",
       "2527          NaN   United States              0                  0   \n",
       "2528          NaN   United States              0                  0   \n",
       "2529          NaN   United States              0                  0   \n",
       "\n",
       "      Condition_Used  \n",
       "0                  0  \n",
       "1                  1  \n",
       "2                  1  \n",
       "3                  1  \n",
       "4                  1  \n",
       "...              ...  \n",
       "2525               0  \n",
       "2526               0  \n",
       "2527               0  \n",
       "2528               0  \n",
       "2529               0  \n",
       "\n",
       "[2530 rows x 20 columns]"
      ]
     },
     "execution_count": 81,
     "metadata": {},
     "output_type": "execute_result"
    }
   ],
   "source": [
    "pd.get_dummies(data=df, columns=['Condition'], prefix_sep='_')"
   ]
  },
  {
   "cell_type": "code",
   "execution_count": 82,
   "metadata": {},
   "outputs": [],
   "source": [
    "# pd.get_dummies(data=df, columns=['Condition'], prefix_sep='_')"
   ]
  },
  {
   "cell_type": "code",
   "execution_count": 83,
   "metadata": {},
   "outputs": [],
   "source": [
    "# data = encoding.fit_transform(df[['Condition']]).toarray()"
   ]
  },
  {
   "cell_type": "code",
   "execution_count": 84,
   "metadata": {},
   "outputs": [],
   "source": [
    "# encoding.categories_"
   ]
  },
  {
   "cell_type": "code",
   "execution_count": 85,
   "metadata": {},
   "outputs": [],
   "source": [
    "# df_enc = pd.DataFrame(data = data, columns=encoding.categories_)"
   ]
  },
  {
   "cell_type": "code",
   "execution_count": 86,
   "metadata": {},
   "outputs": [],
   "source": [
    "# df_enc"
   ]
  },
  {
   "cell_type": "code",
   "execution_count": 87,
   "metadata": {},
   "outputs": [],
   "source": [
    "# df.dropna(inplace=True)"
   ]
  },
  {
   "cell_type": "code",
   "execution_count": 88,
   "metadata": {},
   "outputs": [
    {
     "data": {
      "text/plain": [
       "Total Seats       0.369266\n",
       "Engine 1 Hours    0.310392\n",
       "Year              0.270775\n",
       "Engine 2 Hours    0.189640\n",
       "Prop 2 Hours      0.066804\n",
       "Prop 1 Hours     -0.038334\n",
       "Total Hours      -0.051127\n",
       "Name: Price, dtype: float64"
      ]
     },
     "execution_count": 88,
     "metadata": {},
     "output_type": "execute_result"
    }
   ],
   "source": [
    "correlation = df.corr()\n",
    "correlation['Price'].sort_values(ascending = False)[1:]"
   ]
  },
  {
   "cell_type": "markdown",
   "metadata": {},
   "source": [
    "## Machine Learning"
   ]
  },
  {
   "cell_type": "code",
   "execution_count": 89,
   "metadata": {},
   "outputs": [],
   "source": [
    "from sklearn.model_selection import train_test_split"
   ]
  },
  {
   "cell_type": "code",
   "execution_count": 90,
   "metadata": {},
   "outputs": [],
   "source": [
    "X = df.drop(columns='Price')\n",
    "y = df['Price']"
   ]
  },
  {
   "cell_type": "code",
   "execution_count": 91,
   "metadata": {},
   "outputs": [],
   "source": [
    "X_train, X_test, y_train, y_test = train_test_split(X, y, train_size = .8, random_state=42)"
   ]
  },
  {
   "cell_type": "code",
   "execution_count": 113,
   "metadata": {},
   "outputs": [
    {
     "data": {
      "text/plain": [
       "(2024, 17)"
      ]
     },
     "execution_count": 113,
     "metadata": {},
     "output_type": "execute_result"
    }
   ],
   "source": [
    "X_train.shape"
   ]
  },
  {
   "cell_type": "code",
   "execution_count": 114,
   "metadata": {},
   "outputs": [
    {
     "data": {
      "text/plain": [
       "(506, 17)"
      ]
     },
     "execution_count": 114,
     "metadata": {},
     "output_type": "execute_result"
    }
   ],
   "source": [
    "X_test.shape"
   ]
  },
  {
   "cell_type": "code",
   "execution_count": 115,
   "metadata": {},
   "outputs": [],
   "source": [
    "from sklearn.linear_model import LogisticRegression"
   ]
  },
  {
   "cell_type": "code",
   "execution_count": 116,
   "metadata": {},
   "outputs": [],
   "source": [
    "modelLR = LogisticRegression()"
   ]
  },
  {
   "cell_type": "code",
   "execution_count": 117,
   "metadata": {},
   "outputs": [
    {
     "ename": "ValueError",
     "evalue": "could not convert string to float: 'Australia'",
     "output_type": "error",
     "traceback": [
      "\u001b[1;31m---------------------------------------------------------------------------\u001b[0m",
      "\u001b[1;31mValueError\u001b[0m                                Traceback (most recent call last)",
      "\u001b[1;32m<ipython-input-117-b4c82cbed604>\u001b[0m in \u001b[0;36m<module>\u001b[1;34m\u001b[0m\n\u001b[1;32m----> 1\u001b[1;33m \u001b[0mmodelLR\u001b[0m\u001b[1;33m.\u001b[0m\u001b[0mfit\u001b[0m\u001b[1;33m(\u001b[0m\u001b[0mX_train\u001b[0m\u001b[1;33m,\u001b[0m \u001b[0my_train\u001b[0m\u001b[1;33m)\u001b[0m\u001b[1;33m\u001b[0m\u001b[1;33m\u001b[0m\u001b[0m\n\u001b[0m",
      "\u001b[1;32m~\\anaconda3\\lib\\site-packages\\sklearn\\linear_model\\_logistic.py\u001b[0m in \u001b[0;36mfit\u001b[1;34m(self, X, y, sample_weight)\u001b[0m\n\u001b[0;32m   1340\u001b[0m             \u001b[0m_dtype\u001b[0m \u001b[1;33m=\u001b[0m \u001b[1;33m[\u001b[0m\u001b[0mnp\u001b[0m\u001b[1;33m.\u001b[0m\u001b[0mfloat64\u001b[0m\u001b[1;33m,\u001b[0m \u001b[0mnp\u001b[0m\u001b[1;33m.\u001b[0m\u001b[0mfloat32\u001b[0m\u001b[1;33m]\u001b[0m\u001b[1;33m\u001b[0m\u001b[1;33m\u001b[0m\u001b[0m\n\u001b[0;32m   1341\u001b[0m \u001b[1;33m\u001b[0m\u001b[0m\n\u001b[1;32m-> 1342\u001b[1;33m         X, y = self._validate_data(X, y, accept_sparse='csr', dtype=_dtype,\n\u001b[0m\u001b[0;32m   1343\u001b[0m                                    \u001b[0morder\u001b[0m\u001b[1;33m=\u001b[0m\u001b[1;34m\"C\"\u001b[0m\u001b[1;33m,\u001b[0m\u001b[1;33m\u001b[0m\u001b[1;33m\u001b[0m\u001b[0m\n\u001b[0;32m   1344\u001b[0m                                    accept_large_sparse=solver != 'liblinear')\n",
      "\u001b[1;32m~\\anaconda3\\lib\\site-packages\\sklearn\\base.py\u001b[0m in \u001b[0;36m_validate_data\u001b[1;34m(self, X, y, reset, validate_separately, **check_params)\u001b[0m\n\u001b[0;32m    430\u001b[0m                 \u001b[0my\u001b[0m \u001b[1;33m=\u001b[0m \u001b[0mcheck_array\u001b[0m\u001b[1;33m(\u001b[0m\u001b[0my\u001b[0m\u001b[1;33m,\u001b[0m \u001b[1;33m**\u001b[0m\u001b[0mcheck_y_params\u001b[0m\u001b[1;33m)\u001b[0m\u001b[1;33m\u001b[0m\u001b[1;33m\u001b[0m\u001b[0m\n\u001b[0;32m    431\u001b[0m             \u001b[1;32melse\u001b[0m\u001b[1;33m:\u001b[0m\u001b[1;33m\u001b[0m\u001b[1;33m\u001b[0m\u001b[0m\n\u001b[1;32m--> 432\u001b[1;33m                 \u001b[0mX\u001b[0m\u001b[1;33m,\u001b[0m \u001b[0my\u001b[0m \u001b[1;33m=\u001b[0m \u001b[0mcheck_X_y\u001b[0m\u001b[1;33m(\u001b[0m\u001b[0mX\u001b[0m\u001b[1;33m,\u001b[0m \u001b[0my\u001b[0m\u001b[1;33m,\u001b[0m \u001b[1;33m**\u001b[0m\u001b[0mcheck_params\u001b[0m\u001b[1;33m)\u001b[0m\u001b[1;33m\u001b[0m\u001b[1;33m\u001b[0m\u001b[0m\n\u001b[0m\u001b[0;32m    433\u001b[0m             \u001b[0mout\u001b[0m \u001b[1;33m=\u001b[0m \u001b[0mX\u001b[0m\u001b[1;33m,\u001b[0m \u001b[0my\u001b[0m\u001b[1;33m\u001b[0m\u001b[1;33m\u001b[0m\u001b[0m\n\u001b[0;32m    434\u001b[0m \u001b[1;33m\u001b[0m\u001b[0m\n",
      "\u001b[1;32m~\\anaconda3\\lib\\site-packages\\sklearn\\utils\\validation.py\u001b[0m in \u001b[0;36minner_f\u001b[1;34m(*args, **kwargs)\u001b[0m\n\u001b[0;32m     71\u001b[0m                           FutureWarning)\n\u001b[0;32m     72\u001b[0m         \u001b[0mkwargs\u001b[0m\u001b[1;33m.\u001b[0m\u001b[0mupdate\u001b[0m\u001b[1;33m(\u001b[0m\u001b[1;33m{\u001b[0m\u001b[0mk\u001b[0m\u001b[1;33m:\u001b[0m \u001b[0marg\u001b[0m \u001b[1;32mfor\u001b[0m \u001b[0mk\u001b[0m\u001b[1;33m,\u001b[0m \u001b[0marg\u001b[0m \u001b[1;32min\u001b[0m \u001b[0mzip\u001b[0m\u001b[1;33m(\u001b[0m\u001b[0msig\u001b[0m\u001b[1;33m.\u001b[0m\u001b[0mparameters\u001b[0m\u001b[1;33m,\u001b[0m \u001b[0margs\u001b[0m\u001b[1;33m)\u001b[0m\u001b[1;33m}\u001b[0m\u001b[1;33m)\u001b[0m\u001b[1;33m\u001b[0m\u001b[1;33m\u001b[0m\u001b[0m\n\u001b[1;32m---> 73\u001b[1;33m         \u001b[1;32mreturn\u001b[0m \u001b[0mf\u001b[0m\u001b[1;33m(\u001b[0m\u001b[1;33m**\u001b[0m\u001b[0mkwargs\u001b[0m\u001b[1;33m)\u001b[0m\u001b[1;33m\u001b[0m\u001b[1;33m\u001b[0m\u001b[0m\n\u001b[0m\u001b[0;32m     74\u001b[0m     \u001b[1;32mreturn\u001b[0m \u001b[0minner_f\u001b[0m\u001b[1;33m\u001b[0m\u001b[1;33m\u001b[0m\u001b[0m\n\u001b[0;32m     75\u001b[0m \u001b[1;33m\u001b[0m\u001b[0m\n",
      "\u001b[1;32m~\\anaconda3\\lib\\site-packages\\sklearn\\utils\\validation.py\u001b[0m in \u001b[0;36mcheck_X_y\u001b[1;34m(X, y, accept_sparse, accept_large_sparse, dtype, order, copy, force_all_finite, ensure_2d, allow_nd, multi_output, ensure_min_samples, ensure_min_features, y_numeric, estimator)\u001b[0m\n\u001b[0;32m    794\u001b[0m         \u001b[1;32mraise\u001b[0m \u001b[0mValueError\u001b[0m\u001b[1;33m(\u001b[0m\u001b[1;34m\"y cannot be None\"\u001b[0m\u001b[1;33m)\u001b[0m\u001b[1;33m\u001b[0m\u001b[1;33m\u001b[0m\u001b[0m\n\u001b[0;32m    795\u001b[0m \u001b[1;33m\u001b[0m\u001b[0m\n\u001b[1;32m--> 796\u001b[1;33m     X = check_array(X, accept_sparse=accept_sparse,\n\u001b[0m\u001b[0;32m    797\u001b[0m                     \u001b[0maccept_large_sparse\u001b[0m\u001b[1;33m=\u001b[0m\u001b[0maccept_large_sparse\u001b[0m\u001b[1;33m,\u001b[0m\u001b[1;33m\u001b[0m\u001b[1;33m\u001b[0m\u001b[0m\n\u001b[0;32m    798\u001b[0m                     \u001b[0mdtype\u001b[0m\u001b[1;33m=\u001b[0m\u001b[0mdtype\u001b[0m\u001b[1;33m,\u001b[0m \u001b[0morder\u001b[0m\u001b[1;33m=\u001b[0m\u001b[0morder\u001b[0m\u001b[1;33m,\u001b[0m \u001b[0mcopy\u001b[0m\u001b[1;33m=\u001b[0m\u001b[0mcopy\u001b[0m\u001b[1;33m,\u001b[0m\u001b[1;33m\u001b[0m\u001b[1;33m\u001b[0m\u001b[0m\n",
      "\u001b[1;32m~\\anaconda3\\lib\\site-packages\\sklearn\\utils\\validation.py\u001b[0m in \u001b[0;36minner_f\u001b[1;34m(*args, **kwargs)\u001b[0m\n\u001b[0;32m     71\u001b[0m                           FutureWarning)\n\u001b[0;32m     72\u001b[0m         \u001b[0mkwargs\u001b[0m\u001b[1;33m.\u001b[0m\u001b[0mupdate\u001b[0m\u001b[1;33m(\u001b[0m\u001b[1;33m{\u001b[0m\u001b[0mk\u001b[0m\u001b[1;33m:\u001b[0m \u001b[0marg\u001b[0m \u001b[1;32mfor\u001b[0m \u001b[0mk\u001b[0m\u001b[1;33m,\u001b[0m \u001b[0marg\u001b[0m \u001b[1;32min\u001b[0m \u001b[0mzip\u001b[0m\u001b[1;33m(\u001b[0m\u001b[0msig\u001b[0m\u001b[1;33m.\u001b[0m\u001b[0mparameters\u001b[0m\u001b[1;33m,\u001b[0m \u001b[0margs\u001b[0m\u001b[1;33m)\u001b[0m\u001b[1;33m}\u001b[0m\u001b[1;33m)\u001b[0m\u001b[1;33m\u001b[0m\u001b[1;33m\u001b[0m\u001b[0m\n\u001b[1;32m---> 73\u001b[1;33m         \u001b[1;32mreturn\u001b[0m \u001b[0mf\u001b[0m\u001b[1;33m(\u001b[0m\u001b[1;33m**\u001b[0m\u001b[0mkwargs\u001b[0m\u001b[1;33m)\u001b[0m\u001b[1;33m\u001b[0m\u001b[1;33m\u001b[0m\u001b[0m\n\u001b[0m\u001b[0;32m     74\u001b[0m     \u001b[1;32mreturn\u001b[0m \u001b[0minner_f\u001b[0m\u001b[1;33m\u001b[0m\u001b[1;33m\u001b[0m\u001b[0m\n\u001b[0;32m     75\u001b[0m \u001b[1;33m\u001b[0m\u001b[0m\n",
      "\u001b[1;32m~\\anaconda3\\lib\\site-packages\\sklearn\\utils\\validation.py\u001b[0m in \u001b[0;36mcheck_array\u001b[1;34m(array, accept_sparse, accept_large_sparse, dtype, order, copy, force_all_finite, ensure_2d, allow_nd, ensure_min_samples, ensure_min_features, estimator)\u001b[0m\n\u001b[0;32m    597\u001b[0m                     \u001b[0marray\u001b[0m \u001b[1;33m=\u001b[0m \u001b[0marray\u001b[0m\u001b[1;33m.\u001b[0m\u001b[0mastype\u001b[0m\u001b[1;33m(\u001b[0m\u001b[0mdtype\u001b[0m\u001b[1;33m,\u001b[0m \u001b[0mcasting\u001b[0m\u001b[1;33m=\u001b[0m\u001b[1;34m\"unsafe\"\u001b[0m\u001b[1;33m,\u001b[0m \u001b[0mcopy\u001b[0m\u001b[1;33m=\u001b[0m\u001b[1;32mFalse\u001b[0m\u001b[1;33m)\u001b[0m\u001b[1;33m\u001b[0m\u001b[1;33m\u001b[0m\u001b[0m\n\u001b[0;32m    598\u001b[0m                 \u001b[1;32melse\u001b[0m\u001b[1;33m:\u001b[0m\u001b[1;33m\u001b[0m\u001b[1;33m\u001b[0m\u001b[0m\n\u001b[1;32m--> 599\u001b[1;33m                     \u001b[0marray\u001b[0m \u001b[1;33m=\u001b[0m \u001b[0mnp\u001b[0m\u001b[1;33m.\u001b[0m\u001b[0masarray\u001b[0m\u001b[1;33m(\u001b[0m\u001b[0marray\u001b[0m\u001b[1;33m,\u001b[0m \u001b[0morder\u001b[0m\u001b[1;33m=\u001b[0m\u001b[0morder\u001b[0m\u001b[1;33m,\u001b[0m \u001b[0mdtype\u001b[0m\u001b[1;33m=\u001b[0m\u001b[0mdtype\u001b[0m\u001b[1;33m)\u001b[0m\u001b[1;33m\u001b[0m\u001b[1;33m\u001b[0m\u001b[0m\n\u001b[0m\u001b[0;32m    600\u001b[0m             \u001b[1;32mexcept\u001b[0m \u001b[0mComplexWarning\u001b[0m\u001b[1;33m:\u001b[0m\u001b[1;33m\u001b[0m\u001b[1;33m\u001b[0m\u001b[0m\n\u001b[0;32m    601\u001b[0m                 raise ValueError(\"Complex data not supported\\n\"\n",
      "\u001b[1;32m~\\anaconda3\\lib\\site-packages\\numpy\\core\\_asarray.py\u001b[0m in \u001b[0;36masarray\u001b[1;34m(a, dtype, order)\u001b[0m\n\u001b[0;32m     83\u001b[0m \u001b[1;33m\u001b[0m\u001b[0m\n\u001b[0;32m     84\u001b[0m     \"\"\"\n\u001b[1;32m---> 85\u001b[1;33m     \u001b[1;32mreturn\u001b[0m \u001b[0marray\u001b[0m\u001b[1;33m(\u001b[0m\u001b[0ma\u001b[0m\u001b[1;33m,\u001b[0m \u001b[0mdtype\u001b[0m\u001b[1;33m,\u001b[0m \u001b[0mcopy\u001b[0m\u001b[1;33m=\u001b[0m\u001b[1;32mFalse\u001b[0m\u001b[1;33m,\u001b[0m \u001b[0morder\u001b[0m\u001b[1;33m=\u001b[0m\u001b[0morder\u001b[0m\u001b[1;33m)\u001b[0m\u001b[1;33m\u001b[0m\u001b[1;33m\u001b[0m\u001b[0m\n\u001b[0m\u001b[0;32m     86\u001b[0m \u001b[1;33m\u001b[0m\u001b[0m\n\u001b[0;32m     87\u001b[0m \u001b[1;33m\u001b[0m\u001b[0m\n",
      "\u001b[1;31mValueError\u001b[0m: could not convert string to float: 'Australia'"
     ]
    }
   ],
   "source": [
    "modelLR.fit(X_train, y_train)"
   ]
  },
  {
   "cell_type": "code",
   "execution_count": null,
   "metadata": {},
   "outputs": [],
   "source": []
  },
  {
   "cell_type": "code",
   "execution_count": 92,
   "metadata": {},
   "outputs": [],
   "source": [
    "from sklearn.pipeline import Pipeline"
   ]
  },
  {
   "cell_type": "code",
   "execution_count": 93,
   "metadata": {},
   "outputs": [],
   "source": [
    "from sklearn.impute import SimpleImputer"
   ]
  },
  {
   "cell_type": "code",
   "execution_count": 94,
   "metadata": {},
   "outputs": [],
   "source": [
    "from sklearn.preprocessing import OneHotEncoder, LabelEncoder, MinMaxScaler, StandardScaler, RobustScaler"
   ]
  },
  {
   "cell_type": "code",
   "execution_count": 95,
   "metadata": {},
   "outputs": [],
   "source": [
    "#### Base Model"
   ]
  },
  {
   "cell_type": "code",
   "execution_count": 96,
   "metadata": {},
   "outputs": [],
   "source": [
    "### Feature Selection"
   ]
  },
  {
   "cell_type": "code",
   "execution_count": 97,
   "metadata": {},
   "outputs": [],
   "source": [
    "df.drop(columns=['S/N', 'REG'], inplace=True)"
   ]
  },
  {
   "cell_type": "code",
   "execution_count": 98,
   "metadata": {},
   "outputs": [],
   "source": [
    "cat_columns = ['Condition', 'Currency', 'Category', 'Make', 'Model', 'Location', 'National Origin']\n",
    "num_columns = ['Year', 'Total Seats', 'Total Hours','Engine 1 Hours','Engine 2 Hours', 'Prop 1 Hours', 'Prop 2 Hours']"
   ]
  },
  {
   "cell_type": "code",
   "execution_count": 99,
   "metadata": {},
   "outputs": [],
   "source": [
    "numerical_pipeline = Pipeline([\n",
    "    ('imputer', SimpleImputer(strategy='mean')),\n",
    "    ('scaler', RobustScaler()),\n",
    "])\n",
    "\n",
    "\n",
    "\n",
    "categorical_pipeline = Pipeline([\n",
    "    ('imputer',SimpleImputer(strategy='most_frequent')),\n",
    "    ('encoder', OneHotEncoder())\n",
    "])"
   ]
  },
  {
   "cell_type": "code",
   "execution_count": 100,
   "metadata": {},
   "outputs": [],
   "source": [
    "X_train_cat = categorical_pipeline.fit_transform(X_train[cat_columns])"
   ]
  },
  {
   "cell_type": "code",
   "execution_count": 101,
   "metadata": {},
   "outputs": [
    {
     "data": {
      "text/plain": [
       "array([[0., 0., 1., ..., 0., 0., 0.],\n",
       "       [0., 0., 1., ..., 0., 0., 1.],\n",
       "       [0., 0., 1., ..., 0., 0., 1.],\n",
       "       ...,\n",
       "       [0., 0., 1., ..., 0., 0., 1.],\n",
       "       [0., 0., 1., ..., 0., 0., 1.],\n",
       "       [0., 0., 1., ..., 0., 0., 0.]])"
      ]
     },
     "execution_count": 101,
     "metadata": {},
     "output_type": "execute_result"
    }
   ],
   "source": [
    "X_train_cat.toarray()"
   ]
  },
  {
   "cell_type": "code",
   "execution_count": 102,
   "metadata": {},
   "outputs": [],
   "source": [
    "X_train_num = numerical_pipeline.fit_transform(X_train[num_columns])"
   ]
  },
  {
   "cell_type": "code",
   "execution_count": 103,
   "metadata": {},
   "outputs": [],
   "source": [
    "from sklearn.compose import ColumnTransformer"
   ]
  },
  {
   "cell_type": "code",
   "execution_count": 104,
   "metadata": {},
   "outputs": [],
   "source": [
    "preprocessor = ColumnTransformer([\n",
    "    ('numeric', numerical_pipeline, num_columns),\n",
    "    ('categorical', categorical_pipeline, cat_columns)\n",
    "])"
   ]
  },
  {
   "cell_type": "code",
   "execution_count": 105,
   "metadata": {},
   "outputs": [
    {
     "data": {
      "text/html": [
       "<div>\n",
       "<style scoped>\n",
       "    .dataframe tbody tr th:only-of-type {\n",
       "        vertical-align: middle;\n",
       "    }\n",
       "\n",
       "    .dataframe tbody tr th {\n",
       "        vertical-align: top;\n",
       "    }\n",
       "\n",
       "    .dataframe thead th {\n",
       "        text-align: right;\n",
       "    }\n",
       "</style>\n",
       "<table border=\"1\" class=\"dataframe\">\n",
       "  <thead>\n",
       "    <tr style=\"text-align: right;\">\n",
       "      <th></th>\n",
       "      <th>Condition</th>\n",
       "      <th>Currency</th>\n",
       "      <th>Category</th>\n",
       "      <th>Year</th>\n",
       "      <th>Make</th>\n",
       "      <th>Model</th>\n",
       "      <th>Location</th>\n",
       "      <th>S/N</th>\n",
       "      <th>REG</th>\n",
       "      <th>Total Hours</th>\n",
       "      <th>Engine 1 Hours</th>\n",
       "      <th>Engine 2 Hours</th>\n",
       "      <th>Prop 1 Hours</th>\n",
       "      <th>Prop 2 Hours</th>\n",
       "      <th>Total Seats</th>\n",
       "      <th>Flight Rules</th>\n",
       "      <th>National Origin</th>\n",
       "    </tr>\n",
       "  </thead>\n",
       "  <tbody>\n",
       "    <tr>\n",
       "      <th>1990</th>\n",
       "      <td>NaN</td>\n",
       "      <td>NaN</td>\n",
       "      <td>Private Jets</td>\n",
       "      <td>2009.0</td>\n",
       "      <td>EMBRAER</td>\n",
       "      <td>Phenom 100</td>\n",
       "      <td>North America</td>\n",
       "      <td>50000022</td>\n",
       "      <td>N522EP</td>\n",
       "      <td>2649.0</td>\n",
       "      <td>NaN</td>\n",
       "      <td>NaN</td>\n",
       "      <td>NaN</td>\n",
       "      <td>NaN</td>\n",
       "      <td>NaN</td>\n",
       "      <td>NaN</td>\n",
       "      <td>Brazil</td>\n",
       "    </tr>\n",
       "    <tr>\n",
       "      <th>157</th>\n",
       "      <td>Used</td>\n",
       "      <td>USD</td>\n",
       "      <td>Turboprop</td>\n",
       "      <td>2007.0</td>\n",
       "      <td>CESSNA</td>\n",
       "      <td>CARAVAN 208 AMPHIBIAN</td>\n",
       "      <td>USA</td>\n",
       "      <td>20800413</td>\n",
       "      <td>N984JD</td>\n",
       "      <td>3973.0</td>\n",
       "      <td>1228.0</td>\n",
       "      <td>NaN</td>\n",
       "      <td>1228.0</td>\n",
       "      <td>NaN</td>\n",
       "      <td>NaN</td>\n",
       "      <td>NaN</td>\n",
       "      <td>United States</td>\n",
       "    </tr>\n",
       "    <tr>\n",
       "      <th>1472</th>\n",
       "      <td>Used</td>\n",
       "      <td>USD</td>\n",
       "      <td>Single Engine Piston</td>\n",
       "      <td>1964.0</td>\n",
       "      <td>PIPER AIRCRAFT</td>\n",
       "      <td>CHEROKEE 180</td>\n",
       "      <td>USA</td>\n",
       "      <td>Not Listed</td>\n",
       "      <td>N7860W</td>\n",
       "      <td>2596.0</td>\n",
       "      <td>NaN</td>\n",
       "      <td>NaN</td>\n",
       "      <td>NaN</td>\n",
       "      <td>NaN</td>\n",
       "      <td>4.0</td>\n",
       "      <td>IFR</td>\n",
       "      <td>United States</td>\n",
       "    </tr>\n",
       "    <tr>\n",
       "      <th>790</th>\n",
       "      <td>Used</td>\n",
       "      <td>USD</td>\n",
       "      <td>Single Engine Piston</td>\n",
       "      <td>2006.0</td>\n",
       "      <td>AVIAT</td>\n",
       "      <td>HUSKY A-1B</td>\n",
       "      <td>USA</td>\n",
       "      <td>2354</td>\n",
       "      <td>N706BH</td>\n",
       "      <td>1110.0</td>\n",
       "      <td>1110.0</td>\n",
       "      <td>NaN</td>\n",
       "      <td>NaN</td>\n",
       "      <td>NaN</td>\n",
       "      <td>NaN</td>\n",
       "      <td>NaN</td>\n",
       "      <td>United States</td>\n",
       "    </tr>\n",
       "    <tr>\n",
       "      <th>2075</th>\n",
       "      <td>NaN</td>\n",
       "      <td>EUR</td>\n",
       "      <td>Turbine Helicopters</td>\n",
       "      <td>2007.0</td>\n",
       "      <td>AIRBUS HELICOPTERS</td>\n",
       "      <td>EC 130B4</td>\n",
       "      <td>Europe</td>\n",
       "      <td>4219</td>\n",
       "      <td>LY-HTB</td>\n",
       "      <td>1420.0</td>\n",
       "      <td>NaN</td>\n",
       "      <td>NaN</td>\n",
       "      <td>NaN</td>\n",
       "      <td>NaN</td>\n",
       "      <td>NaN</td>\n",
       "      <td>NaN</td>\n",
       "      <td>EU</td>\n",
       "    </tr>\n",
       "  </tbody>\n",
       "</table>\n",
       "</div>"
      ],
      "text/plain": [
       "     Condition Currency              Category    Year                Make  \\\n",
       "1990       NaN      NaN          Private Jets  2009.0             EMBRAER   \n",
       "157       Used      USD             Turboprop  2007.0              CESSNA   \n",
       "1472      Used      USD  Single Engine Piston  1964.0      PIPER AIRCRAFT   \n",
       "790       Used      USD  Single Engine Piston  2006.0               AVIAT   \n",
       "2075       NaN      EUR   Turbine Helicopters  2007.0  AIRBUS HELICOPTERS   \n",
       "\n",
       "                      Model       Location         S/N     REG  Total Hours  \\\n",
       "1990             Phenom 100  North America    50000022  N522EP       2649.0   \n",
       "157   CARAVAN 208 AMPHIBIAN            USA    20800413  N984JD       3973.0   \n",
       "1472           CHEROKEE 180            USA  Not Listed  N7860W       2596.0   \n",
       "790              HUSKY A-1B            USA        2354  N706BH       1110.0   \n",
       "2075               EC 130B4         Europe        4219  LY-HTB       1420.0   \n",
       "\n",
       "      Engine 1 Hours  Engine 2 Hours  Prop 1 Hours  Prop 2 Hours  Total Seats  \\\n",
       "1990             NaN             NaN           NaN           NaN          NaN   \n",
       "157           1228.0             NaN        1228.0           NaN          NaN   \n",
       "1472             NaN             NaN           NaN           NaN          4.0   \n",
       "790           1110.0             NaN           NaN           NaN          NaN   \n",
       "2075             NaN             NaN           NaN           NaN          NaN   \n",
       "\n",
       "     Flight Rules National Origin  \n",
       "1990          NaN          Brazil  \n",
       "157           NaN   United States  \n",
       "1472          IFR   United States  \n",
       "790           NaN   United States  \n",
       "2075          NaN              EU  "
      ]
     },
     "execution_count": 105,
     "metadata": {},
     "output_type": "execute_result"
    }
   ],
   "source": [
    "X_train.head()"
   ]
  },
  {
   "cell_type": "code",
   "execution_count": 106,
   "metadata": {},
   "outputs": [
    {
     "data": {
      "text/plain": [
       "Condition           619\n",
       "Currency            454\n",
       "Category              0\n",
       "Year                 67\n",
       "Make                  0\n",
       "Model                 0\n",
       "Location              0\n",
       "S/N                   3\n",
       "REG                   0\n",
       "Total Hours         616\n",
       "Engine 1 Hours     1605\n",
       "Engine 2 Hours     1885\n",
       "Prop 1 Hours       1829\n",
       "Prop 2 Hours       1984\n",
       "Total Seats        1107\n",
       "Flight Rules       1338\n",
       "National Origin       7\n",
       "dtype: int64"
      ]
     },
     "execution_count": 106,
     "metadata": {},
     "output_type": "execute_result"
    }
   ],
   "source": [
    "X_train.isna().sum()"
   ]
  },
  {
   "cell_type": "code",
   "execution_count": 107,
   "metadata": {},
   "outputs": [],
   "source": [
    "X_train_prep = preprocessor.fit_transform(X_train)"
   ]
  },
  {
   "cell_type": "code",
   "execution_count": 108,
   "metadata": {},
   "outputs": [],
   "source": [
    "X_test_prep = preprocessor.fit_transform(X_test)"
   ]
  },
  {
   "cell_type": "code",
   "execution_count": 109,
   "metadata": {},
   "outputs": [],
   "source": [
    "from sklearn.ensemble import RandomForestRegressor"
   ]
  },
  {
   "cell_type": "code",
   "execution_count": 110,
   "metadata": {},
   "outputs": [],
   "source": [
    "RF = RandomForestRegressor()"
   ]
  },
  {
   "cell_type": "code",
   "execution_count": 111,
   "metadata": {},
   "outputs": [
    {
     "data": {
      "text/plain": [
       "RandomForestRegressor()"
      ]
     },
     "execution_count": 111,
     "metadata": {},
     "output_type": "execute_result"
    }
   ],
   "source": [
    "RF.fit(X_train_prep, y_train)"
   ]
  },
  {
   "cell_type": "code",
   "execution_count": 112,
   "metadata": {},
   "outputs": [
    {
     "ename": "ValueError",
     "evalue": "Number of features of the model must match the input. Model n_features is 1183 and input n_features is 500 ",
     "output_type": "error",
     "traceback": [
      "\u001b[1;31m---------------------------------------------------------------------------\u001b[0m",
      "\u001b[1;31mValueError\u001b[0m                                Traceback (most recent call last)",
      "\u001b[1;32m<ipython-input-112-bb1723b4cce9>\u001b[0m in \u001b[0;36m<module>\u001b[1;34m\u001b[0m\n\u001b[1;32m----> 1\u001b[1;33m \u001b[0mRF\u001b[0m\u001b[1;33m.\u001b[0m\u001b[0mscore\u001b[0m\u001b[1;33m(\u001b[0m\u001b[0mX_test_prep\u001b[0m\u001b[1;33m,\u001b[0m \u001b[0my_test\u001b[0m\u001b[1;33m)\u001b[0m\u001b[1;33m\u001b[0m\u001b[1;33m\u001b[0m\u001b[0m\n\u001b[0m",
      "\u001b[1;32m~\\anaconda3\\lib\\site-packages\\sklearn\\base.py\u001b[0m in \u001b[0;36mscore\u001b[1;34m(self, X, y, sample_weight)\u001b[0m\n\u001b[0;32m    549\u001b[0m \u001b[1;33m\u001b[0m\u001b[0m\n\u001b[0;32m    550\u001b[0m         \u001b[1;32mfrom\u001b[0m \u001b[1;33m.\u001b[0m\u001b[0mmetrics\u001b[0m \u001b[1;32mimport\u001b[0m \u001b[0mr2_score\u001b[0m\u001b[1;33m\u001b[0m\u001b[1;33m\u001b[0m\u001b[0m\n\u001b[1;32m--> 551\u001b[1;33m         \u001b[0my_pred\u001b[0m \u001b[1;33m=\u001b[0m \u001b[0mself\u001b[0m\u001b[1;33m.\u001b[0m\u001b[0mpredict\u001b[0m\u001b[1;33m(\u001b[0m\u001b[0mX\u001b[0m\u001b[1;33m)\u001b[0m\u001b[1;33m\u001b[0m\u001b[1;33m\u001b[0m\u001b[0m\n\u001b[0m\u001b[0;32m    552\u001b[0m         \u001b[1;32mreturn\u001b[0m \u001b[0mr2_score\u001b[0m\u001b[1;33m(\u001b[0m\u001b[0my\u001b[0m\u001b[1;33m,\u001b[0m \u001b[0my_pred\u001b[0m\u001b[1;33m,\u001b[0m \u001b[0msample_weight\u001b[0m\u001b[1;33m=\u001b[0m\u001b[0msample_weight\u001b[0m\u001b[1;33m)\u001b[0m\u001b[1;33m\u001b[0m\u001b[1;33m\u001b[0m\u001b[0m\n\u001b[0;32m    553\u001b[0m \u001b[1;33m\u001b[0m\u001b[0m\n",
      "\u001b[1;32m~\\anaconda3\\lib\\site-packages\\sklearn\\ensemble\\_forest.py\u001b[0m in \u001b[0;36mpredict\u001b[1;34m(self, X)\u001b[0m\n\u001b[0;32m    781\u001b[0m         \u001b[0mcheck_is_fitted\u001b[0m\u001b[1;33m(\u001b[0m\u001b[0mself\u001b[0m\u001b[1;33m)\u001b[0m\u001b[1;33m\u001b[0m\u001b[1;33m\u001b[0m\u001b[0m\n\u001b[0;32m    782\u001b[0m         \u001b[1;31m# Check data\u001b[0m\u001b[1;33m\u001b[0m\u001b[1;33m\u001b[0m\u001b[1;33m\u001b[0m\u001b[0m\n\u001b[1;32m--> 783\u001b[1;33m         \u001b[0mX\u001b[0m \u001b[1;33m=\u001b[0m \u001b[0mself\u001b[0m\u001b[1;33m.\u001b[0m\u001b[0m_validate_X_predict\u001b[0m\u001b[1;33m(\u001b[0m\u001b[0mX\u001b[0m\u001b[1;33m)\u001b[0m\u001b[1;33m\u001b[0m\u001b[1;33m\u001b[0m\u001b[0m\n\u001b[0m\u001b[0;32m    784\u001b[0m \u001b[1;33m\u001b[0m\u001b[0m\n\u001b[0;32m    785\u001b[0m         \u001b[1;31m# Assign chunk of trees to jobs\u001b[0m\u001b[1;33m\u001b[0m\u001b[1;33m\u001b[0m\u001b[1;33m\u001b[0m\u001b[0m\n",
      "\u001b[1;32m~\\anaconda3\\lib\\site-packages\\sklearn\\ensemble\\_forest.py\u001b[0m in \u001b[0;36m_validate_X_predict\u001b[1;34m(self, X)\u001b[0m\n\u001b[0;32m    419\u001b[0m         \u001b[0mcheck_is_fitted\u001b[0m\u001b[1;33m(\u001b[0m\u001b[0mself\u001b[0m\u001b[1;33m)\u001b[0m\u001b[1;33m\u001b[0m\u001b[1;33m\u001b[0m\u001b[0m\n\u001b[0;32m    420\u001b[0m \u001b[1;33m\u001b[0m\u001b[0m\n\u001b[1;32m--> 421\u001b[1;33m         \u001b[1;32mreturn\u001b[0m \u001b[0mself\u001b[0m\u001b[1;33m.\u001b[0m\u001b[0mestimators_\u001b[0m\u001b[1;33m[\u001b[0m\u001b[1;36m0\u001b[0m\u001b[1;33m]\u001b[0m\u001b[1;33m.\u001b[0m\u001b[0m_validate_X_predict\u001b[0m\u001b[1;33m(\u001b[0m\u001b[0mX\u001b[0m\u001b[1;33m,\u001b[0m \u001b[0mcheck_input\u001b[0m\u001b[1;33m=\u001b[0m\u001b[1;32mTrue\u001b[0m\u001b[1;33m)\u001b[0m\u001b[1;33m\u001b[0m\u001b[1;33m\u001b[0m\u001b[0m\n\u001b[0m\u001b[0;32m    422\u001b[0m \u001b[1;33m\u001b[0m\u001b[0m\n\u001b[0;32m    423\u001b[0m     \u001b[1;33m@\u001b[0m\u001b[0mproperty\u001b[0m\u001b[1;33m\u001b[0m\u001b[1;33m\u001b[0m\u001b[0m\n",
      "\u001b[1;32m~\\anaconda3\\lib\\site-packages\\sklearn\\tree\\_classes.py\u001b[0m in \u001b[0;36m_validate_X_predict\u001b[1;34m(self, X, check_input)\u001b[0m\n\u001b[0;32m    394\u001b[0m         \u001b[0mn_features\u001b[0m \u001b[1;33m=\u001b[0m \u001b[0mX\u001b[0m\u001b[1;33m.\u001b[0m\u001b[0mshape\u001b[0m\u001b[1;33m[\u001b[0m\u001b[1;36m1\u001b[0m\u001b[1;33m]\u001b[0m\u001b[1;33m\u001b[0m\u001b[1;33m\u001b[0m\u001b[0m\n\u001b[0;32m    395\u001b[0m         \u001b[1;32mif\u001b[0m \u001b[0mself\u001b[0m\u001b[1;33m.\u001b[0m\u001b[0mn_features_\u001b[0m \u001b[1;33m!=\u001b[0m \u001b[0mn_features\u001b[0m\u001b[1;33m:\u001b[0m\u001b[1;33m\u001b[0m\u001b[1;33m\u001b[0m\u001b[0m\n\u001b[1;32m--> 396\u001b[1;33m             raise ValueError(\"Number of features of the model must \"\n\u001b[0m\u001b[0;32m    397\u001b[0m                              \u001b[1;34m\"match the input. Model n_features is %s and \"\u001b[0m\u001b[1;33m\u001b[0m\u001b[1;33m\u001b[0m\u001b[0m\n\u001b[0;32m    398\u001b[0m                              \u001b[1;34m\"input n_features is %s \"\u001b[0m\u001b[1;33m\u001b[0m\u001b[1;33m\u001b[0m\u001b[0m\n",
      "\u001b[1;31mValueError\u001b[0m: Number of features of the model must match the input. Model n_features is 1183 and input n_features is 500 "
     ]
    }
   ],
   "source": [
    "RF.score(X_test_prep, y_test)"
   ]
  },
  {
   "cell_type": "code",
   "execution_count": null,
   "metadata": {},
   "outputs": [],
   "source": [
    "from xgboost import XGBRegressor"
   ]
  },
  {
   "cell_type": "code",
   "execution_count": null,
   "metadata": {},
   "outputs": [],
   "source": [
    "XGB = XGBRegressor()"
   ]
  },
  {
   "cell_type": "code",
   "execution_count": null,
   "metadata": {},
   "outputs": [],
   "source": [
    "XGB.fit(X_train_prep, y_train)"
   ]
  },
  {
   "cell_type": "code",
   "execution_count": null,
   "metadata": {},
   "outputs": [],
   "source": [
    "XGB.score(X_test_prep, y_test)"
   ]
  },
  {
   "cell_type": "code",
   "execution_count": null,
   "metadata": {},
   "outputs": [],
   "source": []
  }
 ],
 "metadata": {
  "kernelspec": {
   "display_name": "Python 3",
   "language": "python",
   "name": "python3"
  },
  "language_info": {
   "codemirror_mode": {
    "name": "ipython",
    "version": 3
   },
   "file_extension": ".py",
   "mimetype": "text/x-python",
   "name": "python",
   "nbconvert_exporter": "python",
   "pygments_lexer": "ipython3",
   "version": "3.8.3"
  }
 },
 "nbformat": 4,
 "nbformat_minor": 4
}
